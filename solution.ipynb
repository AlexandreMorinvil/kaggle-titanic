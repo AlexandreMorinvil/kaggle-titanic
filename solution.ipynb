{
 "cells": [
  {
   "cell_type": "code",
   "execution_count": 173,
   "id": "166fbc30-4775-4acb-9e22-26ed603c1f5b",
   "metadata": {},
   "outputs": [],
   "source": [
    "# This is a cleaned up solution to the Titanic problem. \n",
    "# Some of the strategies used come from the following ressources : \n",
    "# - https://www.youtube.com/watch?v=Ea_KAcdv1vs&t=142s\n",
    "# - https://www.kaggle.com/code/gusthema/titanic-competition-w-tensorflow-decision-forests\n",
    "# - https://www.youtube.com/watch?v=I3FBJdiExcg\n",
    "# - https://www.kaggle.com/code/alifioditya/titanic-classification-basic-pipeline\n",
    "# - https://towardsdatascience.com/class-imbalance-strategies-a-visual-guide-with-code-8bc8fae71e1a\n",
    "\n",
    "# Loading the packages used\n",
    "\n",
    "import matplotlib.pyplot as plt\n",
    "import numpy as np\n",
    "import pandas as pd\n",
    "import seaborn as sns\n",
    "%matplotlib inline\n",
    "\n",
    "from sklearn.preprocessing import MinMaxScaler\n",
    "from sklearn.preprocessing import OneHotEncoder\n",
    "from sklearn.model_selection import train_test_split\n",
    "from sklearn.metrics import confusion_matrix, accuracy_score\n",
    "\n",
    "from imblearn.over_sampling import SMOTE\n",
    "\n",
    "import matplotlib.pyplot as plt"
   ]
  },
  {
   "cell_type": "markdown",
   "id": "93c17e51-29c4-4cf2-9b40-20b270d8961b",
   "metadata": {},
   "source": [
    "## Importing the data"
   ]
  },
  {
   "cell_type": "code",
   "execution_count": 2,
   "id": "a55a7744-5db5-4aad-bc75-6577c3017e7e",
   "metadata": {},
   "outputs": [],
   "source": [
    "train_df = pd.read_csv('dataset/train.csv')\n",
    "serving_df = pd.read_csv('dataset/test.csv')"
   ]
  },
  {
   "cell_type": "markdown",
   "id": "ea12ce9f-e317-4aa7-b358-808c23348eee",
   "metadata": {},
   "source": [
    "## 1. Data Exploration"
   ]
  },
  {
   "cell_type": "code",
   "execution_count": null,
   "id": "1e61fcf3-92b5-44ee-91a0-3bedec897ecc",
   "metadata": {},
   "outputs": [],
   "source": []
  },
  {
   "cell_type": "markdown",
   "id": "754c05cc-4e03-4f51-84ed-e5bcefb1836b",
   "metadata": {},
   "source": [
    "We will start by understanding the structure of our data."
   ]
  },
  {
   "cell_type": "code",
   "execution_count": 3,
   "id": "e7d06c17-131c-47f1-b326-b58ec13ba82e",
   "metadata": {},
   "outputs": [
    {
     "data": {
      "text/html": [
       "<div>\n",
       "<style scoped>\n",
       "    .dataframe tbody tr th:only-of-type {\n",
       "        vertical-align: middle;\n",
       "    }\n",
       "\n",
       "    .dataframe tbody tr th {\n",
       "        vertical-align: top;\n",
       "    }\n",
       "\n",
       "    .dataframe thead th {\n",
       "        text-align: right;\n",
       "    }\n",
       "</style>\n",
       "<table border=\"1\" class=\"dataframe\">\n",
       "  <thead>\n",
       "    <tr style=\"text-align: right;\">\n",
       "      <th></th>\n",
       "      <th>PassengerId</th>\n",
       "      <th>Survived</th>\n",
       "      <th>Pclass</th>\n",
       "      <th>Name</th>\n",
       "      <th>Sex</th>\n",
       "      <th>Age</th>\n",
       "      <th>SibSp</th>\n",
       "      <th>Parch</th>\n",
       "      <th>Ticket</th>\n",
       "      <th>Fare</th>\n",
       "      <th>Cabin</th>\n",
       "      <th>Embarked</th>\n",
       "    </tr>\n",
       "  </thead>\n",
       "  <tbody>\n",
       "    <tr>\n",
       "      <th>0</th>\n",
       "      <td>1</td>\n",
       "      <td>0</td>\n",
       "      <td>3</td>\n",
       "      <td>Braund, Mr. Owen Harris</td>\n",
       "      <td>male</td>\n",
       "      <td>22.0</td>\n",
       "      <td>1</td>\n",
       "      <td>0</td>\n",
       "      <td>A/5 21171</td>\n",
       "      <td>7.2500</td>\n",
       "      <td>NaN</td>\n",
       "      <td>S</td>\n",
       "    </tr>\n",
       "    <tr>\n",
       "      <th>1</th>\n",
       "      <td>2</td>\n",
       "      <td>1</td>\n",
       "      <td>1</td>\n",
       "      <td>Cumings, Mrs. John Bradley (Florence Briggs Th...</td>\n",
       "      <td>female</td>\n",
       "      <td>38.0</td>\n",
       "      <td>1</td>\n",
       "      <td>0</td>\n",
       "      <td>PC 17599</td>\n",
       "      <td>71.2833</td>\n",
       "      <td>C85</td>\n",
       "      <td>C</td>\n",
       "    </tr>\n",
       "    <tr>\n",
       "      <th>2</th>\n",
       "      <td>3</td>\n",
       "      <td>1</td>\n",
       "      <td>3</td>\n",
       "      <td>Heikkinen, Miss. Laina</td>\n",
       "      <td>female</td>\n",
       "      <td>26.0</td>\n",
       "      <td>0</td>\n",
       "      <td>0</td>\n",
       "      <td>STON/O2. 3101282</td>\n",
       "      <td>7.9250</td>\n",
       "      <td>NaN</td>\n",
       "      <td>S</td>\n",
       "    </tr>\n",
       "    <tr>\n",
       "      <th>3</th>\n",
       "      <td>4</td>\n",
       "      <td>1</td>\n",
       "      <td>1</td>\n",
       "      <td>Futrelle, Mrs. Jacques Heath (Lily May Peel)</td>\n",
       "      <td>female</td>\n",
       "      <td>35.0</td>\n",
       "      <td>1</td>\n",
       "      <td>0</td>\n",
       "      <td>113803</td>\n",
       "      <td>53.1000</td>\n",
       "      <td>C123</td>\n",
       "      <td>S</td>\n",
       "    </tr>\n",
       "    <tr>\n",
       "      <th>4</th>\n",
       "      <td>5</td>\n",
       "      <td>0</td>\n",
       "      <td>3</td>\n",
       "      <td>Allen, Mr. William Henry</td>\n",
       "      <td>male</td>\n",
       "      <td>35.0</td>\n",
       "      <td>0</td>\n",
       "      <td>0</td>\n",
       "      <td>373450</td>\n",
       "      <td>8.0500</td>\n",
       "      <td>NaN</td>\n",
       "      <td>S</td>\n",
       "    </tr>\n",
       "    <tr>\n",
       "      <th>5</th>\n",
       "      <td>6</td>\n",
       "      <td>0</td>\n",
       "      <td>3</td>\n",
       "      <td>Moran, Mr. James</td>\n",
       "      <td>male</td>\n",
       "      <td>NaN</td>\n",
       "      <td>0</td>\n",
       "      <td>0</td>\n",
       "      <td>330877</td>\n",
       "      <td>8.4583</td>\n",
       "      <td>NaN</td>\n",
       "      <td>Q</td>\n",
       "    </tr>\n",
       "    <tr>\n",
       "      <th>6</th>\n",
       "      <td>7</td>\n",
       "      <td>0</td>\n",
       "      <td>1</td>\n",
       "      <td>McCarthy, Mr. Timothy J</td>\n",
       "      <td>male</td>\n",
       "      <td>54.0</td>\n",
       "      <td>0</td>\n",
       "      <td>0</td>\n",
       "      <td>17463</td>\n",
       "      <td>51.8625</td>\n",
       "      <td>E46</td>\n",
       "      <td>S</td>\n",
       "    </tr>\n",
       "    <tr>\n",
       "      <th>7</th>\n",
       "      <td>8</td>\n",
       "      <td>0</td>\n",
       "      <td>3</td>\n",
       "      <td>Palsson, Master. Gosta Leonard</td>\n",
       "      <td>male</td>\n",
       "      <td>2.0</td>\n",
       "      <td>3</td>\n",
       "      <td>1</td>\n",
       "      <td>349909</td>\n",
       "      <td>21.0750</td>\n",
       "      <td>NaN</td>\n",
       "      <td>S</td>\n",
       "    </tr>\n",
       "    <tr>\n",
       "      <th>8</th>\n",
       "      <td>9</td>\n",
       "      <td>1</td>\n",
       "      <td>3</td>\n",
       "      <td>Johnson, Mrs. Oscar W (Elisabeth Vilhelmina Berg)</td>\n",
       "      <td>female</td>\n",
       "      <td>27.0</td>\n",
       "      <td>0</td>\n",
       "      <td>2</td>\n",
       "      <td>347742</td>\n",
       "      <td>11.1333</td>\n",
       "      <td>NaN</td>\n",
       "      <td>S</td>\n",
       "    </tr>\n",
       "    <tr>\n",
       "      <th>9</th>\n",
       "      <td>10</td>\n",
       "      <td>1</td>\n",
       "      <td>2</td>\n",
       "      <td>Nasser, Mrs. Nicholas (Adele Achem)</td>\n",
       "      <td>female</td>\n",
       "      <td>14.0</td>\n",
       "      <td>1</td>\n",
       "      <td>0</td>\n",
       "      <td>237736</td>\n",
       "      <td>30.0708</td>\n",
       "      <td>NaN</td>\n",
       "      <td>C</td>\n",
       "    </tr>\n",
       "  </tbody>\n",
       "</table>\n",
       "</div>"
      ],
      "text/plain": [
       "   PassengerId  Survived  Pclass  \\\n",
       "0            1         0       3   \n",
       "1            2         1       1   \n",
       "2            3         1       3   \n",
       "3            4         1       1   \n",
       "4            5         0       3   \n",
       "5            6         0       3   \n",
       "6            7         0       1   \n",
       "7            8         0       3   \n",
       "8            9         1       3   \n",
       "9           10         1       2   \n",
       "\n",
       "                                                Name     Sex   Age  SibSp  \\\n",
       "0                            Braund, Mr. Owen Harris    male  22.0      1   \n",
       "1  Cumings, Mrs. John Bradley (Florence Briggs Th...  female  38.0      1   \n",
       "2                             Heikkinen, Miss. Laina  female  26.0      0   \n",
       "3       Futrelle, Mrs. Jacques Heath (Lily May Peel)  female  35.0      1   \n",
       "4                           Allen, Mr. William Henry    male  35.0      0   \n",
       "5                                   Moran, Mr. James    male   NaN      0   \n",
       "6                            McCarthy, Mr. Timothy J    male  54.0      0   \n",
       "7                     Palsson, Master. Gosta Leonard    male   2.0      3   \n",
       "8  Johnson, Mrs. Oscar W (Elisabeth Vilhelmina Berg)  female  27.0      0   \n",
       "9                Nasser, Mrs. Nicholas (Adele Achem)  female  14.0      1   \n",
       "\n",
       "   Parch            Ticket     Fare Cabin Embarked  \n",
       "0      0         A/5 21171   7.2500   NaN        S  \n",
       "1      0          PC 17599  71.2833   C85        C  \n",
       "2      0  STON/O2. 3101282   7.9250   NaN        S  \n",
       "3      0            113803  53.1000  C123        S  \n",
       "4      0            373450   8.0500   NaN        S  \n",
       "5      0            330877   8.4583   NaN        Q  \n",
       "6      0             17463  51.8625   E46        S  \n",
       "7      1            349909  21.0750   NaN        S  \n",
       "8      2            347742  11.1333   NaN        S  \n",
       "9      0            237736  30.0708   NaN        C  "
      ]
     },
     "execution_count": 3,
     "metadata": {},
     "output_type": "execute_result"
    }
   ],
   "source": [
    "train_df.head(10)"
   ]
  },
  {
   "cell_type": "code",
   "execution_count": 4,
   "id": "ea5ca647-e53c-4061-a945-ef8ff6009e0c",
   "metadata": {},
   "outputs": [
    {
     "name": "stdout",
     "output_type": "stream",
     "text": [
      "<class 'pandas.core.frame.DataFrame'>\n",
      "RangeIndex: 891 entries, 0 to 890\n",
      "Data columns (total 12 columns):\n",
      " #   Column       Non-Null Count  Dtype  \n",
      "---  ------       --------------  -----  \n",
      " 0   PassengerId  891 non-null    int64  \n",
      " 1   Survived     891 non-null    int64  \n",
      " 2   Pclass       891 non-null    int64  \n",
      " 3   Name         891 non-null    object \n",
      " 4   Sex          891 non-null    object \n",
      " 5   Age          714 non-null    float64\n",
      " 6   SibSp        891 non-null    int64  \n",
      " 7   Parch        891 non-null    int64  \n",
      " 8   Ticket       891 non-null    object \n",
      " 9   Fare         891 non-null    float64\n",
      " 10  Cabin        204 non-null    object \n",
      " 11  Embarked     889 non-null    object \n",
      "dtypes: float64(2), int64(5), object(5)\n",
      "memory usage: 83.7+ KB\n"
     ]
    }
   ],
   "source": [
    "train_df.info()"
   ]
  },
  {
   "cell_type": "code",
   "execution_count": 5,
   "id": "eff21386-10bd-4b0d-b21e-1a7eb995dae1",
   "metadata": {},
   "outputs": [
    {
     "data": {
      "text/html": [
       "<div>\n",
       "<style scoped>\n",
       "    .dataframe tbody tr th:only-of-type {\n",
       "        vertical-align: middle;\n",
       "    }\n",
       "\n",
       "    .dataframe tbody tr th {\n",
       "        vertical-align: top;\n",
       "    }\n",
       "\n",
       "    .dataframe thead th {\n",
       "        text-align: right;\n",
       "    }\n",
       "</style>\n",
       "<table border=\"1\" class=\"dataframe\">\n",
       "  <thead>\n",
       "    <tr style=\"text-align: right;\">\n",
       "      <th></th>\n",
       "      <th>PassengerId</th>\n",
       "      <th>Survived</th>\n",
       "      <th>Pclass</th>\n",
       "      <th>Age</th>\n",
       "      <th>SibSp</th>\n",
       "      <th>Parch</th>\n",
       "      <th>Fare</th>\n",
       "    </tr>\n",
       "  </thead>\n",
       "  <tbody>\n",
       "    <tr>\n",
       "      <th>count</th>\n",
       "      <td>891.000000</td>\n",
       "      <td>891.000000</td>\n",
       "      <td>891.000000</td>\n",
       "      <td>714.000000</td>\n",
       "      <td>891.000000</td>\n",
       "      <td>891.000000</td>\n",
       "      <td>891.000000</td>\n",
       "    </tr>\n",
       "    <tr>\n",
       "      <th>mean</th>\n",
       "      <td>446.000000</td>\n",
       "      <td>0.383838</td>\n",
       "      <td>2.308642</td>\n",
       "      <td>29.699118</td>\n",
       "      <td>0.523008</td>\n",
       "      <td>0.381594</td>\n",
       "      <td>32.204208</td>\n",
       "    </tr>\n",
       "    <tr>\n",
       "      <th>std</th>\n",
       "      <td>257.353842</td>\n",
       "      <td>0.486592</td>\n",
       "      <td>0.836071</td>\n",
       "      <td>14.526497</td>\n",
       "      <td>1.102743</td>\n",
       "      <td>0.806057</td>\n",
       "      <td>49.693429</td>\n",
       "    </tr>\n",
       "    <tr>\n",
       "      <th>min</th>\n",
       "      <td>1.000000</td>\n",
       "      <td>0.000000</td>\n",
       "      <td>1.000000</td>\n",
       "      <td>0.420000</td>\n",
       "      <td>0.000000</td>\n",
       "      <td>0.000000</td>\n",
       "      <td>0.000000</td>\n",
       "    </tr>\n",
       "    <tr>\n",
       "      <th>25%</th>\n",
       "      <td>223.500000</td>\n",
       "      <td>0.000000</td>\n",
       "      <td>2.000000</td>\n",
       "      <td>20.125000</td>\n",
       "      <td>0.000000</td>\n",
       "      <td>0.000000</td>\n",
       "      <td>7.910400</td>\n",
       "    </tr>\n",
       "    <tr>\n",
       "      <th>50%</th>\n",
       "      <td>446.000000</td>\n",
       "      <td>0.000000</td>\n",
       "      <td>3.000000</td>\n",
       "      <td>28.000000</td>\n",
       "      <td>0.000000</td>\n",
       "      <td>0.000000</td>\n",
       "      <td>14.454200</td>\n",
       "    </tr>\n",
       "    <tr>\n",
       "      <th>75%</th>\n",
       "      <td>668.500000</td>\n",
       "      <td>1.000000</td>\n",
       "      <td>3.000000</td>\n",
       "      <td>38.000000</td>\n",
       "      <td>1.000000</td>\n",
       "      <td>0.000000</td>\n",
       "      <td>31.000000</td>\n",
       "    </tr>\n",
       "    <tr>\n",
       "      <th>max</th>\n",
       "      <td>891.000000</td>\n",
       "      <td>1.000000</td>\n",
       "      <td>3.000000</td>\n",
       "      <td>80.000000</td>\n",
       "      <td>8.000000</td>\n",
       "      <td>6.000000</td>\n",
       "      <td>512.329200</td>\n",
       "    </tr>\n",
       "  </tbody>\n",
       "</table>\n",
       "</div>"
      ],
      "text/plain": [
       "       PassengerId    Survived      Pclass         Age       SibSp  \\\n",
       "count   891.000000  891.000000  891.000000  714.000000  891.000000   \n",
       "mean    446.000000    0.383838    2.308642   29.699118    0.523008   \n",
       "std     257.353842    0.486592    0.836071   14.526497    1.102743   \n",
       "min       1.000000    0.000000    1.000000    0.420000    0.000000   \n",
       "25%     223.500000    0.000000    2.000000   20.125000    0.000000   \n",
       "50%     446.000000    0.000000    3.000000   28.000000    0.000000   \n",
       "75%     668.500000    1.000000    3.000000   38.000000    1.000000   \n",
       "max     891.000000    1.000000    3.000000   80.000000    8.000000   \n",
       "\n",
       "            Parch        Fare  \n",
       "count  891.000000  891.000000  \n",
       "mean     0.381594   32.204208  \n",
       "std      0.806057   49.693429  \n",
       "min      0.000000    0.000000  \n",
       "25%      0.000000    7.910400  \n",
       "50%      0.000000   14.454200  \n",
       "75%      0.000000   31.000000  \n",
       "max      6.000000  512.329200  "
      ]
     },
     "execution_count": 5,
     "metadata": {},
     "output_type": "execute_result"
    }
   ],
   "source": [
    "train_df.describe()"
   ]
  },
  {
   "cell_type": "markdown",
   "id": "937c0c7d-1653-4c6d-9bff-b5305328fd23",
   "metadata": {},
   "source": [
    "We visualize the missing data. However, we must be careful when using this method, because not all data will necessarily be visible. For instance, the 'Embarked' column has two absent entries which are not necessarily visible in a heatmap. It is better to rely on the info() method of the dataframe."
   ]
  },
  {
   "cell_type": "code",
   "execution_count": 6,
   "id": "96741f2c-d10c-451d-aa64-301ae7fe7fe5",
   "metadata": {},
   "outputs": [
    {
     "data": {
      "text/plain": [
       "<AxesSubplot:>"
      ]
     },
     "execution_count": 6,
     "metadata": {},
     "output_type": "execute_result"
    },
    {
     "data": {
      "image/png": "[encoded data removed]",
      "text/plain": [
       "<Figure size 640x480 with 2 Axes>"
      ]
     },
     "metadata": {},
     "output_type": "display_data"
    }
   ],
   "source": [
    "# We can use seaborn to create a simple heatmap to see where the missing data are.\n",
    "sns.heatmap(train_df.isnull(), yticklabels=False, cmap='viridis')"
   ]
  },
  {
   "cell_type": "code",
   "execution_count": 7,
   "id": "76b0f68d-67fc-4906-9549-7f4386ad7383",
   "metadata": {},
   "outputs": [
    {
     "name": "stdout",
     "output_type": "stream",
     "text": [
      "There are 148 unique cabin values out of the 204 values that are not null\n"
     ]
    }
   ],
   "source": [
    "unique_cabin_count = len(train_df['Cabin'].unique())\n",
    "non_null_cabin_count = len(train_df[train_df['Cabin'].notnull()]) \n",
    "\n",
    "print('There are {} unique cabin values out of the {} values that are not null'.format(unique_cabin_count, non_null_cabin_count))"
   ]
  },
  {
   "cell_type": "markdown",
   "id": "eed5bbfe-3445-4ba3-b582-1eb8d2935b97",
   "metadata": {},
   "source": [
    "We observe that only the columns 'Age' and 'Cabin' contain missing data.\n",
    "When it comes to the age, it appears that there are reasonable few ages missing. We should be able to come up with a form of data imputation.\n",
    "When it comes to the cabin, there are only 204 values that are not null (and out of them, almot 75% are unique values). We will transform this feature into a binary feature indicating whether or not they had an assigned cabin. "
   ]
  },
  {
   "cell_type": "code",
   "execution_count": 8,
   "id": "7f6db3bd-4586-4129-9681-bc247d4c19e8",
   "metadata": {},
   "outputs": [
    {
     "data": {
      "text/plain": [
       "<AxesSubplot:xlabel='Survived', ylabel='count'>"
      ]
     },
     "execution_count": 8,
     "metadata": {},
     "output_type": "execute_result"
    },
    {
     "data": {
      "image/png": "[encoded data removed]",
      "text/plain": [
       "<Figure size 640x480 with 1 Axes>"
      ]
     },
     "metadata": {},
     "output_type": "display_data"
    }
   ],
   "source": [
    "sns.set_style('whitegrid')\n",
    "sns.countplot(x='Survived', data=train_df)"
   ]
  },
  {
   "cell_type": "code",
   "execution_count": 9,
   "id": "9f773c3e-3f84-411d-9ac2-e30badfc8eaf",
   "metadata": {},
   "outputs": [
    {
     "data": {
      "text/plain": [
       "<AxesSubplot:xlabel='Survived', ylabel='count'>"
      ]
     },
     "execution_count": 9,
     "metadata": {},
     "output_type": "execute_result"
    },
    {
     "data": {
      "image/png": "[encoded data removed]",
      "text/plain": [
       "<Figure size 640x480 with 1 Axes>"
      ]
     },
     "metadata": {},
     "output_type": "display_data"
    }
   ],
   "source": [
    "sns.set_style('whitegrid')\n",
    "sns.countplot(x='Survived', data=train_df, hue='Sex', palette='coolwarm')"
   ]
  },
  {
   "cell_type": "markdown",
   "id": "37532f36-57e1-49e5-b0b3-f085c19a79a1",
   "metadata": {},
   "source": [
    "We notice that men were much more likely to not have survived."
   ]
  },
  {
   "cell_type": "code",
   "execution_count": 10,
   "id": "75f85959-0333-4813-b54b-aed355c817ca",
   "metadata": {},
   "outputs": [
    {
     "data": {
      "text/plain": [
       "<AxesSubplot:xlabel='Survived', ylabel='count'>"
      ]
     },
     "execution_count": 10,
     "metadata": {},
     "output_type": "execute_result"
    },
    {
     "data": {
      "image/png": "[encoded data removed]",
      "text/plain": [
       "<Figure size 640x480 with 1 Axes>"
      ]
     },
     "metadata": {},
     "output_type": "display_data"
    }
   ],
   "source": [
    "sns.set_style('whitegrid')\n",
    "sns.countplot(x='Survived', data=train_df, hue='Pclass', palette='coolwarm')"
   ]
  },
  {
   "cell_type": "markdown",
   "id": "eaf77ac2-c19a-4e24-87ae-894716f633b6",
   "metadata": {},
   "source": [
    "We observe that the passager of class 1 were much more likely to not have survived."
   ]
  },
  {
   "cell_type": "code",
   "execution_count": 166,
   "id": "e75ff35c-83c9-4522-b5fc-975778b58ea5",
   "metadata": {},
   "outputs": [
    {
     "data": {
      "text/plain": [
       "<AxesSubplot:xlabel='Age', ylabel='Count'>"
      ]
     },
     "execution_count": 166,
     "metadata": {},
     "output_type": "execute_result"
    },
    {
     "data": {
      "image/png": "[encoded data removed]",
      "text/plain": [
       "<Figure size 640x480 with 1 Axes>"
      ]
     },
     "metadata": {},
     "output_type": "display_data"
    }
   ],
   "source": [
    "sns.histplot(x='Age', data=train_df.dropna(), hue='Survived', kde=True, color='darkred', bins=32)"
   ]
  },
  {
   "cell_type": "markdown",
   "id": "b71671d6-0574-4b1e-b24a-f284bd61cfaa",
   "metadata": {},
   "source": [
    "We observe that the averge age is somewhere between 20 and 30 years old. Based on this distribution, it would not be unreasonable to use this average age to inpute an age where the ages are missing."
   ]
  },
  {
   "cell_type": "code",
   "execution_count": 12,
   "id": "e738afd9-ed27-47ff-86ca-cd0a11f990c8",
   "metadata": {},
   "outputs": [
    {
     "data": {
      "text/plain": [
       "<AxesSubplot:xlabel='Survived', ylabel='count'>"
      ]
     },
     "execution_count": 12,
     "metadata": {},
     "output_type": "execute_result"
    },
    {
     "data": {
      "image/png": "[encoded data removed]",
      "text/plain": [
       "<Figure size 640x480 with 1 Axes>"
      ]
     },
     "metadata": {},
     "output_type": "display_data"
    }
   ],
   "source": [
    "sns.countplot(x='Survived', data=train_df, hue='Parch')"
   ]
  },
  {
   "cell_type": "code",
   "execution_count": 13,
   "id": "e7fa2af3-2f56-45bd-8785-8a9ef6950409",
   "metadata": {},
   "outputs": [
    {
     "data": {
      "text/plain": [
       "<AxesSubplot:xlabel='Survived', ylabel='count'>"
      ]
     },
     "execution_count": 13,
     "metadata": {},
     "output_type": "execute_result"
    },
    {
     "data": {
      "image/png": "[encoded data removed]",
      "text/plain": [
       "<Figure size 640x480 with 1 Axes>"
      ]
     },
     "metadata": {},
     "output_type": "display_data"
    }
   ],
   "source": [
    "sns.countplot(x='Survived', data=train_df, hue='SibSp')"
   ]
  },
  {
   "cell_type": "markdown",
   "id": "915b39f5-bd6f-4f7c-b3c0-cee2679d54c4",
   "metadata": {},
   "source": [
    "We do not really get a lot of information from the 'Parch' features and the 'SibSp' feature, aside from observing that the values are generally low (around 0, 1 or 2). Otherwise, the distribution of survival vs death is quite visibly similiar for all the values of these features. That being said, we do see that when people had 3 or more SibSp or Parch, they were more likely to not have survived."
   ]
  },
  {
   "cell_type": "code",
   "execution_count": 14,
   "id": "71e9ea06-78bf-44e7-bf45-4fa5fc1ac4bd",
   "metadata": {},
   "outputs": [
    {
     "data": {
      "text/plain": [
       "<AxesSubplot:xlabel='Fare', ylabel='Count'>"
      ]
     },
     "execution_count": 14,
     "metadata": {},
     "output_type": "execute_result"
    },
    {
     "data": {
      "image/png": "[encoded data removed]",
      "text/plain": [
       "<Figure size 640x480 with 1 Axes>"
      ]
     },
     "metadata": {},
     "output_type": "display_data"
    }
   ],
   "source": [
    "sns.histplot(x='Fare', data=train_df, bins=40)"
   ]
  },
  {
   "cell_type": "markdown",
   "id": "65f0384e-d058-4e4c-98ed-f8041c61026d",
   "metadata": {},
   "source": [
    "We observe that the fare are generally low (somwhat remanescent of a poisson distribution)."
   ]
  },
  {
   "cell_type": "code",
   "execution_count": 15,
   "id": "abc1b0b6-2731-46de-ac82-9d9ec2f2b2c4",
   "metadata": {},
   "outputs": [
    {
     "data": {
      "text/plain": [
       "<AxesSubplot:xlabel='Survived', ylabel='count'>"
      ]
     },
     "execution_count": 15,
     "metadata": {},
     "output_type": "execute_result"
    },
    {
     "data": {
      "image/png": "[encoded data removed]",
      "text/plain": [
       "<Figure size 640x480 with 1 Axes>"
      ]
     },
     "metadata": {},
     "output_type": "display_data"
    }
   ],
   "source": [
    "sns.countplot(x='Survived', data=train_df, hue='Embarked', palette='coolwarm')"
   ]
  },
  {
   "cell_type": "markdown",
   "id": "28e60690-7ef0-4570-9c1e-bb5d6a4fd794",
   "metadata": {},
   "source": [
    "We do not observe a particular trend based on the 'Embarked' feature."
   ]
  },
  {
   "cell_type": "code",
   "execution_count": 16,
   "id": "b1529956-2e2a-4ddd-9b86-f301b0eefabb",
   "metadata": {},
   "outputs": [
    {
     "data": {
      "text/plain": [
       "S    644\n",
       "C    168\n",
       "Q     77\n",
       "Name: Embarked, dtype: int64"
      ]
     },
     "execution_count": 16,
     "metadata": {},
     "output_type": "execute_result"
    }
   ],
   "source": [
    "train_df['Embarked'].value_counts()"
   ]
  },
  {
   "cell_type": "markdown",
   "id": "b17c13ee-25d2-4b49-b7bf-5979d998582c",
   "metadata": {},
   "source": [
    "## 2. Data cleaning and preprocessing"
   ]
  },
  {
   "cell_type": "markdown",
   "id": "d5dcb16f-1b94-44df-b987-a8e06c869394",
   "metadata": {},
   "source": [
    "### Cabin\n",
    "\n",
    "We will want to remove the cabin column and replace it by a column that indicates whether or not there a cabin indicated."
   ]
  },
  {
   "cell_type": "code",
   "execution_count": 17,
   "id": "560f18a1-0939-4000-b913-b3f96910c24d",
   "metadata": {},
   "outputs": [],
   "source": [
    "train_df['Has_Cabin'] = train_df['Cabin'].notnull()\n",
    "serving_df['Has_Cabin'] = serving_df['Cabin'].notnull()"
   ]
  },
  {
   "cell_type": "markdown",
   "id": "b5090de7-ec32-441c-97cc-f43480622d9e",
   "metadata": {},
   "source": [
    "### Age\n",
    "\n",
    "We want to impute an age to the user that do not have mone assigned. We try to assign an age to the users based on a criterea (instead of assigning the average age to everyone)."
   ]
  },
  {
   "cell_type": "code",
   "execution_count": 18,
   "id": "a8730bce-37e5-4ea1-b3bc-e1f8da3bc2ca",
   "metadata": {},
   "outputs": [
    {
     "name": "stdout",
     "output_type": "stream",
     "text": [
      "PassengerId    0.036847\n",
      "Survived      -0.077221\n",
      "Pclass        -0.369226\n",
      "Age            1.000000\n",
      "SibSp         -0.308247\n",
      "Parch         -0.189119\n",
      "Fare           0.096067\n",
      "Has_Cabin      0.249732\n",
      "Name: Age, dtype: float64\n"
     ]
    },
    {
     "data": {
      "text/plain": [
       "<AxesSubplot:xlabel='Pclass', ylabel='Age'>"
      ]
     },
     "execution_count": 18,
     "metadata": {},
     "output_type": "execute_result"
    },
    {
     "data": {
      "image/png": "[encoded data removed]",
      "text/plain": [
       "<Figure size 640x480 with 1 Axes>"
      ]
     },
     "metadata": {},
     "output_type": "display_data"
    }
   ],
   "source": [
    "print(train_df.corr()['Age'])\n",
    "sns.boxplot(x='Pclass', y='Age', data=train_df, palette='coolwarm')"
   ]
  },
  {
   "cell_type": "markdown",
   "id": "4152428d-eaed-436c-af33-972208879358",
   "metadata": {},
   "source": [
    "We obser that there is a relatively good corelation between the average age and the class of the passanger. The passenger in better classes tend to be older. Thus, we will use the average per class in order to assign the missing values of the ages of the passangers."
   ]
  },
  {
   "cell_type": "code",
   "execution_count": 19,
   "id": "6f108246-c2b9-4aeb-b5e8-86fca62995e3",
   "metadata": {},
   "outputs": [
    {
     "name": "stdout",
     "output_type": "stream",
     "text": [
      "Average age for calss 1: 38\n",
      "Average age for calss 2: 30\n",
      "Average age for calss 3: 25\n"
     ]
    }
   ],
   "source": [
    "print('Average age for calss 1:', round(train_df.loc[train_df['Pclass'] == 1, 'Age'].dropna().mean()))\n",
    "print('Average age for calss 2:', round(train_df.loc[train_df['Pclass'] == 2, 'Age'].dropna().mean()))\n",
    "print('Average age for calss 3:', round(train_df.loc[train_df['Pclass'] == 3, 'Age'].dropna().mean()))"
   ]
  },
  {
   "cell_type": "code",
   "execution_count": 20,
   "id": "aa9da935-95f7-4e1e-8085-0352501240fc",
   "metadata": {},
   "outputs": [],
   "source": [
    "def impute_age(df):\n",
    "    Age = df['Age']\n",
    "    Pclass = df['Pclass']\n",
    "    \n",
    "    if pd.isnull(Age):\n",
    "        if Pclass == 1:\n",
    "            return 38\n",
    "        \n",
    "        elif Pclass == 2:\n",
    "            return 30\n",
    "        \n",
    "        else:\n",
    "            return 25\n",
    "        \n",
    "    else:\n",
    "        return Age\n",
    "    \n",
    "train_df['Age'] = train_df[['Age', 'Pclass']].apply(impute_age, axis=1)\n",
    "serving_df['Age'] = serving_df[['Age', 'Pclass']].apply(impute_age, axis=1)"
   ]
  },
  {
   "cell_type": "markdown",
   "id": "aee9036e-f987-4f2a-9e33-30b7ca2a6185",
   "metadata": {},
   "source": [
    "### Embarked"
   ]
  },
  {
   "cell_type": "markdown",
   "id": "aa7941fc-a3fe-4d94-a27e-ba9bcb2477a7",
   "metadata": {},
   "source": [
    "Finally, we must also fill the missing values of the 'Embarked' column"
   ]
  },
  {
   "cell_type": "code",
   "execution_count": 21,
   "id": "368fae3b-2bc5-4d00-bcbf-fb43026ba466",
   "metadata": {},
   "outputs": [],
   "source": [
    "train_df.loc[train_df['Embarked'].isnull(), 'Embarked'] = 'NA'\n",
    "serving_df.loc[serving_df['Embarked'].isnull(), 'Embarked'] = 'NA'"
   ]
  },
  {
   "cell_type": "code",
   "execution_count": 22,
   "id": "2a2bed90-be79-46c0-b16b-3144252d6a57",
   "metadata": {},
   "outputs": [
    {
     "name": "stdout",
     "output_type": "stream",
     "text": [
      "<class 'pandas.core.frame.DataFrame'>\n",
      "RangeIndex: 891 entries, 0 to 890\n",
      "Data columns (total 13 columns):\n",
      " #   Column       Non-Null Count  Dtype  \n",
      "---  ------       --------------  -----  \n",
      " 0   PassengerId  891 non-null    int64  \n",
      " 1   Survived     891 non-null    int64  \n",
      " 2   Pclass       891 non-null    int64  \n",
      " 3   Name         891 non-null    object \n",
      " 4   Sex          891 non-null    object \n",
      " 5   Age          891 non-null    float64\n",
      " 6   SibSp        891 non-null    int64  \n",
      " 7   Parch        891 non-null    int64  \n",
      " 8   Ticket       891 non-null    object \n",
      " 9   Fare         891 non-null    float64\n",
      " 10  Cabin        204 non-null    object \n",
      " 11  Embarked     891 non-null    object \n",
      " 12  Has_Cabin    891 non-null    bool   \n",
      "dtypes: bool(1), float64(2), int64(5), object(5)\n",
      "memory usage: 84.5+ KB\n"
     ]
    },
    {
     "data": {
      "text/plain": [
       "<AxesSubplot:>"
      ]
     },
     "execution_count": 22,
     "metadata": {},
     "output_type": "execute_result"
    },
    {
     "data": {
      "image/png": "[encoded data removed]",
      "text/plain": [
       "<Figure size 640x480 with 2 Axes>"
      ]
     },
     "metadata": {},
     "output_type": "display_data"
    }
   ],
   "source": [
    "train_df.info()\n",
    "sns.heatmap(train_df.isnull(), yticklabels=False, cmap='viridis')"
   ]
  },
  {
   "cell_type": "markdown",
   "id": "c28ccce9-1757-46cb-bd55-221f6bedd168",
   "metadata": {},
   "source": [
    "## 4. Feature engineering"
   ]
  },
  {
   "cell_type": "markdown",
   "id": "a41279cc-5eee-4c23-844f-fa14dc63beb8",
   "metadata": {},
   "source": [
    "### Title\n",
    "\n",
    "We will retreive the title of each passenger as displayed in their name."
   ]
  },
  {
   "cell_type": "code",
   "execution_count": 23,
   "id": "a6cf3e18-8488-4ec0-8818-1e9124889b2c",
   "metadata": {},
   "outputs": [
    {
     "data": {
      "text/plain": [
       "0                              Braund, Mr. Owen Harris\n",
       "1    Cumings, Mrs. John Bradley (Florence Briggs Th...\n",
       "2                               Heikkinen, Miss. Laina\n",
       "3         Futrelle, Mrs. Jacques Heath (Lily May Peel)\n",
       "4                             Allen, Mr. William Henry\n",
       "Name: Name, dtype: object"
      ]
     },
     "execution_count": 23,
     "metadata": {},
     "output_type": "execute_result"
    }
   ],
   "source": [
    "train_df['Name'].head()"
   ]
  },
  {
   "cell_type": "code",
   "execution_count": 24,
   "id": "63b0de5e-9ebc-4b8b-894d-a83e17ab72cd",
   "metadata": {},
   "outputs": [
    {
     "data": {
      "text/plain": [
       "0      Mr.\n",
       "1     Mrs.\n",
       "2    Miss.\n",
       "3     Mrs.\n",
       "4      Mr.\n",
       "Name: Title, dtype: object"
      ]
     },
     "execution_count": 24,
     "metadata": {},
     "output_type": "execute_result"
    }
   ],
   "source": [
    "def extract_title(name):\n",
    "    title = name.split(', ')\n",
    "    title = title[-1]\n",
    "    title = title.split(' ')\n",
    "    title = title[0]\n",
    "    return title\n",
    "\n",
    "train_df['Title'] = train_df['Name'].apply(extract_title)\n",
    "serving_df['Title'] = serving_df['Name'].apply(extract_title)\n",
    "train_df['Title'].head()"
   ]
  },
  {
   "cell_type": "code",
   "execution_count": 25,
   "id": "f8e64ae8-3f32-48b1-8d1d-0bd5d37a4acf",
   "metadata": {},
   "outputs": [
    {
     "data": {
      "text/plain": [
       "<AxesSubplot:xlabel='Title', ylabel='count'>"
      ]
     },
     "execution_count": 25,
     "metadata": {},
     "output_type": "execute_result"
    },
    {
     "data": {
      "image/png": "[encoded data removed]",
      "text/plain": [
       "<Figure size 640x480 with 1 Axes>"
      ]
     },
     "metadata": {},
     "output_type": "display_data"
    }
   ],
   "source": [
    "sns.countplot(x='Title', data=train_df, hue='Survived')"
   ]
  },
  {
   "cell_type": "markdown",
   "id": "dfdb6061-c9eb-4255-bbba-af3170bc6ff2",
   "metadata": {},
   "source": [
    "The 6 classes with the most element could be kep as features, but the other values have too few element to provide any meaningful insight."
   ]
  },
  {
   "cell_type": "code",
   "execution_count": 26,
   "id": "ebfb2de6-753d-4763-ac08-9eae0ff9319a",
   "metadata": {},
   "outputs": [
    {
     "data": {
      "text/plain": [
       "array(['Mr.', 'Mrs.', 'Miss.', 'NA', 'Rev.', 'Dr.'], dtype=object)"
      ]
     },
     "execution_count": 26,
     "metadata": {},
     "output_type": "execute_result"
    }
   ],
   "source": [
    "titles_to_keep = ['Mr.', 'Mrs.', 'Miss.', 'Master', 'Rev.', 'Dr.']\n",
    "\n",
    "train_df.loc[~train_df['Title'].isin(titles_to_keep), 'Title'] = 'NA'\n",
    "serving_df.loc[~serving_df['Title'].isin(titles_to_keep), 'Title'] = 'NA'\n",
    "\n",
    "train_df['Title'].unique()"
   ]
  },
  {
   "cell_type": "code",
   "execution_count": 27,
   "id": "b91d25ec-007a-4b7d-b2a1-5fb25c28fd47",
   "metadata": {},
   "outputs": [
    {
     "data": {
      "text/plain": [
       "<AxesSubplot:xlabel='Title', ylabel='count'>"
      ]
     },
     "execution_count": 27,
     "metadata": {},
     "output_type": "execute_result"
    },
    {
     "data": {
      "image/png": "[encoded data removed]",
      "text/plain": [
       "<Figure size 640x480 with 1 Axes>"
      ]
     },
     "metadata": {},
     "output_type": "display_data"
    }
   ],
   "source": [
    "sns.countplot(x='Title', data=train_df, hue='Survived')"
   ]
  },
  {
   "cell_type": "markdown",
   "id": "2a9db345-1ca5-4777-b6eb-0ae4cebd8a7d",
   "metadata": {},
   "source": [
    "### Ticket Number"
   ]
  },
  {
   "cell_type": "markdown",
   "id": "641c0373-1499-4a9e-a495-9e55cbb0e413",
   "metadata": {},
   "source": [
    "We could also try to see if there is a correlation between the ticket number and the survival rate."
   ]
  },
  {
   "cell_type": "code",
   "execution_count": 28,
   "id": "1efdbfed-87ee-4227-9b42-b6e9848f76f8",
   "metadata": {},
   "outputs": [
    {
     "data": {
      "text/plain": [
       "0           A/5 21171\n",
       "1            PC 17599\n",
       "2    STON/O2. 3101282\n",
       "3              113803\n",
       "4              373450\n",
       "5              330877\n",
       "6               17463\n",
       "7              349909\n",
       "8              347742\n",
       "9              237736\n",
       "Name: Ticket, dtype: object"
      ]
     },
     "execution_count": 28,
     "metadata": {},
     "output_type": "execute_result"
    }
   ],
   "source": [
    "train_df['Ticket'].head(n=10)"
   ]
  },
  {
   "cell_type": "code",
   "execution_count": 59,
   "id": "fb95a59a-2536-4802-adf0-9105095761fd",
   "metadata": {},
   "outputs": [],
   "source": [
    "def extract_ticket_number(ticket):\n",
    "    number = ticket.split(' ')\n",
    "    number = number[-1]\n",
    "    if number.isdigit():\n",
    "        return int(number)\n",
    "    else:\n",
    "        return 0\n",
    "\n",
    "train_df['Ticket_Number'] = train_df['Ticket'].apply(extract_ticket_number)\n",
    "serving_df['Ticket_Number'] = serving_df['Ticket'].apply(extract_ticket_number)"
   ]
  },
  {
   "cell_type": "code",
   "execution_count": 60,
   "id": "7ad71576-287d-4fc4-bcfa-e2611ac2e3ad",
   "metadata": {},
   "outputs": [
    {
     "data": {
      "text/plain": [
       "<AxesSubplot:xlabel='Ticket_Number', ylabel='Count'>"
      ]
     },
     "execution_count": 60,
     "metadata": {},
     "output_type": "execute_result"
    },
    {
     "data": {
      "image/png": "[encoded data removed]",
      "text/plain": [
       "<Figure size 640x480 with 1 Axes>"
      ]
     },
     "metadata": {},
     "output_type": "display_data"
    }
   ],
   "source": [
    "sns.histplot(data=train_df, x='Ticket_Number', hue='Survived')"
   ]
  },
  {
   "cell_type": "markdown",
   "id": "56ed50be-55a8-4795-a8e0-c3cd1e1e009c",
   "metadata": {},
   "source": [
    "There seems to be some interesting trends that can be detected from the ticket number. We will keep this feature, but we will normalize it. \n",
    "\n",
    "### Ticket Text\n",
    "\n",
    "We might as well try to see if there is an interesting property that can be detected from the text parts of the ticket information."
   ]
  },
  {
   "cell_type": "code",
   "execution_count": 61,
   "id": "82e04e6a-6179-4e04-ba0b-de787918ac30",
   "metadata": {},
   "outputs": [
    {
     "data": {
      "text/plain": [
       "array(['A', 'PC', 'STON', 'NA', 'PP', 'C', 'SC', 'S', 'CA', 'SO', 'W',\n",
       "       'SOTON', 'A4', 'Fa', 'F', 'SW', 'SCO', 'P', 'WE'], dtype=object)"
      ]
     },
     "execution_count": 61,
     "metadata": {},
     "output_type": "execute_result"
    }
   ],
   "source": [
    "def extract_ticket_text(ticket):\n",
    "    text = ticket.split(' ')\n",
    "    text = text[:-1]\n",
    "    text.append('NA')\n",
    "    text = ' '.join(text)\n",
    "    text = text.split('/')\n",
    "    text = text[0]\n",
    "    text = text.split(' ')\n",
    "    text = text[0]\n",
    "    text = text.split('.')\n",
    "    text = text[0]\n",
    "    if text.isdigit():\n",
    "        return 'NA'\n",
    "    else:\n",
    "        return text\n",
    "    \n",
    "train_df['Ticket_Text'] = train_df['Ticket'].apply(extract_ticket_text)\n",
    "serving_df['Ticket_Text'] = serving_df['Ticket'].apply(extract_ticket_text)\n",
    "train_df['Ticket_Text'].unique()"
   ]
  },
  {
   "cell_type": "code",
   "execution_count": 62,
   "id": "2fe43c94-7588-43e8-b36d-b397b24d34d7",
   "metadata": {},
   "outputs": [
    {
     "data": {
      "text/plain": [
       "<AxesSubplot:xlabel='Ticket_Text', ylabel='Count'>"
      ]
     },
     "execution_count": 62,
     "metadata": {},
     "output_type": "execute_result"
    },
    {
     "data": {
      "image/png": "[encoded data removed]",
      "text/plain": [
       "<Figure size 640x480 with 1 Axes>"
      ]
     },
     "metadata": {},
     "output_type": "display_data"
    }
   ],
   "source": [
    "sns.histplot(x='Ticket_Text', data=train_df, hue='Survived')"
   ]
  },
  {
   "cell_type": "markdown",
   "id": "e535225e-aa7b-478d-ad25-01add712b8ac",
   "metadata": {},
   "source": [
    "We will keep the 10 most common values and group all the other ones in a 'OHTER' category."
   ]
  },
  {
   "cell_type": "code",
   "execution_count": 63,
   "id": "6a771c66-d09d-4abe-bb9c-3c5d993ff404",
   "metadata": {},
   "outputs": [],
   "source": [
    "ticket_text_to_keep =  train_df['Ticket_Text'].value_counts()[:10].index.tolist()"
   ]
  },
  {
   "cell_type": "code",
   "execution_count": 64,
   "id": "8bb225ed-c6a2-4fbd-88d4-569020ce8f2b",
   "metadata": {},
   "outputs": [
    {
     "data": {
      "text/plain": [
       "<AxesSubplot:xlabel='Ticket_Text', ylabel='Count'>"
      ]
     },
     "execution_count": 64,
     "metadata": {},
     "output_type": "execute_result"
    },
    {
     "data": {
      "image/png": "[encoded data removed]",
      "text/plain": [
       "<Figure size 640x480 with 1 Axes>"
      ]
     },
     "metadata": {},
     "output_type": "display_data"
    }
   ],
   "source": [
    "train_df.loc[~train_df['Ticket_Text'].isin(ticket_text_to_keep), 'Ticket_Text'] = 'OTHER'\n",
    "serving_df.loc[~serving_df['Ticket_Text'].isin(ticket_text_to_keep), 'Ticket_Text'] = 'OTHER'\n",
    "\n",
    "train_df['Ticket_Text'].unique()\n",
    "sns.histplot(x='Ticket_Text', data=train_df, hue='Survived')"
   ]
  },
  {
   "cell_type": "code",
   "execution_count": 65,
   "id": "496f42a8-4282-4a8f-8267-4bd0c37a85ef",
   "metadata": {},
   "outputs": [
    {
     "name": "stdout",
     "output_type": "stream",
     "text": [
      "<class 'pandas.core.frame.DataFrame'>\n",
      "RangeIndex: 891 entries, 0 to 890\n",
      "Data columns (total 16 columns):\n",
      " #   Column         Non-Null Count  Dtype  \n",
      "---  ------         --------------  -----  \n",
      " 0   PassengerId    891 non-null    int64  \n",
      " 1   Survived       891 non-null    int64  \n",
      " 2   Pclass         891 non-null    int64  \n",
      " 3   Name           891 non-null    object \n",
      " 4   Sex            891 non-null    object \n",
      " 5   Age            891 non-null    float64\n",
      " 6   SibSp          891 non-null    int64  \n",
      " 7   Parch          891 non-null    int64  \n",
      " 8   Ticket         891 non-null    object \n",
      " 9   Fare           891 non-null    float64\n",
      " 10  Cabin          204 non-null    object \n",
      " 11  Embarked       891 non-null    object \n",
      " 12  Has_Cabin      891 non-null    bool   \n",
      " 13  Title          891 non-null    object \n",
      " 14  Ticket_Number  891 non-null    int64  \n",
      " 15  Ticket_Text    891 non-null    object \n",
      "dtypes: bool(1), float64(2), int64(6), object(7)\n",
      "memory usage: 105.4+ KB\n"
     ]
    }
   ],
   "source": [
    "train_df.info()"
   ]
  },
  {
   "cell_type": "markdown",
   "id": "e648923a-c081-4717-984f-a0695be72fc2",
   "metadata": {},
   "source": [
    "## 5. Data processing for model"
   ]
  },
  {
   "cell_type": "markdown",
   "id": "bd974c14-870e-444f-8c70-90269b1852e3",
   "metadata": {},
   "source": [
    "Tranforming the data into numerical values and retreiving only the columns needed the training and for preditions."
   ]
  },
  {
   "cell_type": "markdown",
   "id": "4db6bb16-50f8-485a-adbf-3650e9d0841c",
   "metadata": {},
   "source": [
    "### Rescaling and one hot encoding"
   ]
  },
  {
   "cell_type": "code",
   "execution_count": 144,
   "id": "85e60191-deef-4252-b42b-bfe9a6703736",
   "metadata": {},
   "outputs": [],
   "source": [
    "# Categorical features\n",
    "categorical_features = ['Sex', 'Has_Cabin', 'Pclass', 'Embarked', 'Title', 'Ticket_Text']\n",
    "\n",
    "# Numerical features\n",
    "numerical_features = ['Age', 'SibSp', 'Parch', 'Fare', 'Ticket_Number']"
   ]
  },
  {
   "cell_type": "code",
   "execution_count": 145,
   "id": "8ac557b6-b133-45dc-ae9f-2012e6181a98",
   "metadata": {},
   "outputs": [],
   "source": [
    "# Encoding the categorical features\n",
    "one_hot_encoder = OneHotEncoder(drop='if_binary')\n",
    "one_hot_encoder.fit(train_df[categorical_features])\n",
    "\n",
    "categorical_train_df = pd.DataFrame(columns=one_hot_encoder.get_feature_names_out(), \n",
    "                                    data=one_hot_encoder.transform(train_df[categorical_features]).toarray())\n",
    "categorical_serving_df = pd.DataFrame(columns=one_hot_encoder.get_feature_names_out(), \n",
    "                                      data=one_hot_encoder.transform(serving_df[categorical_features]).toarray())"
   ]
  },
  {
   "cell_type": "code",
   "execution_count": 146,
   "id": "6d4f7f0b-811e-4fba-bf10-807da4375095",
   "metadata": {},
   "outputs": [],
   "source": [
    "# Rescaling the numerical features\n",
    "minmax_scaler = MinMaxScaler()\n",
    "minmax_scaler.fit(input_train_df[numerical_features])\n",
    "\n",
    "numerical_train_df = pd.DataFrame(columns=minmax_scaler.get_feature_names_out(), \n",
    "                                  data=minmax_scaler.transform(train_df[numerical_features]))\n",
    "numerical_serving_df = pd.DataFrame(columns=minmax_scaler.get_feature_names_out(), \n",
    "                                    data=minmax_scaler.transform(serving_df[numerical_features]))"
   ]
  },
  {
   "cell_type": "code",
   "execution_count": 150,
   "id": "36720373-c2a7-4560-9519-0f46b2e35aab",
   "metadata": {},
   "outputs": [
    {
     "name": "stdout",
     "output_type": "stream",
     "text": [
      "Input features: ['Sex_male', 'Has_Cabin_True', 'Pclass_1', 'Pclass_2', 'Pclass_3', 'Embarked_C', 'Embarked_Q', 'Embarked_S', 'Title_Dr.', 'Title_Miss.', 'Title_Mr.', 'Title_Mrs.', 'Title_NA', 'Title_Rev.', 'Ticket_Text_A', 'Ticket_Text_C', 'Ticket_Text_CA', 'Ticket_Text_NA', 'Ticket_Text_OTHER', 'Ticket_Text_PC', 'Ticket_Text_S', 'Ticket_Text_SC', 'Ticket_Text_SOTON', 'Ticket_Text_STON', 'Ticket_Text_W', 'Age', 'SibSp', 'Parch', 'Fare', 'Ticket_Number'],\n",
      " That is a total of 30 features.\n"
     ]
    }
   ],
   "source": [
    "input_features = list(one_hot_encoder.get_feature_names_out()) + numerical_features\n",
    "\n",
    "# We do not need this feature as there were only two data points for the training\n",
    "input_features.remove('Embarked_NA')\n",
    "\n",
    "print(f'Input features: {input_features},\\n That is a total of {len(input_features)} features.')"
   ]
  },
  {
   "cell_type": "code",
   "execution_count": 178,
   "id": "bc86dd74-26a8-4251-9f15-bfdc951ee0e2",
   "metadata": {},
   "outputs": [
    {
     "data": {
      "text/html": [
       "<div>\n",
       "<style scoped>\n",
       "    .dataframe tbody tr th:only-of-type {\n",
       "        vertical-align: middle;\n",
       "    }\n",
       "\n",
       "    .dataframe tbody tr th {\n",
       "        vertical-align: top;\n",
       "    }\n",
       "\n",
       "    .dataframe thead th {\n",
       "        text-align: right;\n",
       "    }\n",
       "</style>\n",
       "<table border=\"1\" class=\"dataframe\">\n",
       "  <thead>\n",
       "    <tr style=\"text-align: right;\">\n",
       "      <th></th>\n",
       "      <th>Sex_male</th>\n",
       "      <th>Has_Cabin_True</th>\n",
       "      <th>Pclass_1</th>\n",
       "      <th>Pclass_2</th>\n",
       "      <th>Pclass_3</th>\n",
       "      <th>Embarked_C</th>\n",
       "      <th>Embarked_Q</th>\n",
       "      <th>Embarked_S</th>\n",
       "      <th>Title_Dr.</th>\n",
       "      <th>Title_Miss.</th>\n",
       "      <th>...</th>\n",
       "      <th>Ticket_Text_S</th>\n",
       "      <th>Ticket_Text_SC</th>\n",
       "      <th>Ticket_Text_SOTON</th>\n",
       "      <th>Ticket_Text_STON</th>\n",
       "      <th>Ticket_Text_W</th>\n",
       "      <th>Age</th>\n",
       "      <th>SibSp</th>\n",
       "      <th>Parch</th>\n",
       "      <th>Fare</th>\n",
       "      <th>Ticket_Number</th>\n",
       "    </tr>\n",
       "  </thead>\n",
       "  <tbody>\n",
       "    <tr>\n",
       "      <th>0</th>\n",
       "      <td>1.0</td>\n",
       "      <td>0.0</td>\n",
       "      <td>0.0</td>\n",
       "      <td>0.0</td>\n",
       "      <td>1.0</td>\n",
       "      <td>0.0</td>\n",
       "      <td>0.0</td>\n",
       "      <td>1.0</td>\n",
       "      <td>0.0</td>\n",
       "      <td>0.0</td>\n",
       "      <td>...</td>\n",
       "      <td>0.0</td>\n",
       "      <td>0.0</td>\n",
       "      <td>0.0</td>\n",
       "      <td>0.0</td>\n",
       "      <td>0.0</td>\n",
       "      <td>22.0</td>\n",
       "      <td>1.0</td>\n",
       "      <td>0.0</td>\n",
       "      <td>7.2500</td>\n",
       "      <td>21171.0</td>\n",
       "    </tr>\n",
       "    <tr>\n",
       "      <th>1</th>\n",
       "      <td>0.0</td>\n",
       "      <td>1.0</td>\n",
       "      <td>1.0</td>\n",
       "      <td>0.0</td>\n",
       "      <td>0.0</td>\n",
       "      <td>1.0</td>\n",
       "      <td>0.0</td>\n",
       "      <td>0.0</td>\n",
       "      <td>0.0</td>\n",
       "      <td>0.0</td>\n",
       "      <td>...</td>\n",
       "      <td>0.0</td>\n",
       "      <td>0.0</td>\n",
       "      <td>0.0</td>\n",
       "      <td>0.0</td>\n",
       "      <td>0.0</td>\n",
       "      <td>38.0</td>\n",
       "      <td>1.0</td>\n",
       "      <td>0.0</td>\n",
       "      <td>71.2833</td>\n",
       "      <td>17599.0</td>\n",
       "    </tr>\n",
       "    <tr>\n",
       "      <th>2</th>\n",
       "      <td>0.0</td>\n",
       "      <td>0.0</td>\n",
       "      <td>0.0</td>\n",
       "      <td>0.0</td>\n",
       "      <td>1.0</td>\n",
       "      <td>0.0</td>\n",
       "      <td>0.0</td>\n",
       "      <td>1.0</td>\n",
       "      <td>0.0</td>\n",
       "      <td>1.0</td>\n",
       "      <td>...</td>\n",
       "      <td>0.0</td>\n",
       "      <td>0.0</td>\n",
       "      <td>0.0</td>\n",
       "      <td>1.0</td>\n",
       "      <td>0.0</td>\n",
       "      <td>26.0</td>\n",
       "      <td>0.0</td>\n",
       "      <td>0.0</td>\n",
       "      <td>7.9250</td>\n",
       "      <td>3101282.0</td>\n",
       "    </tr>\n",
       "    <tr>\n",
       "      <th>3</th>\n",
       "      <td>0.0</td>\n",
       "      <td>1.0</td>\n",
       "      <td>1.0</td>\n",
       "      <td>0.0</td>\n",
       "      <td>0.0</td>\n",
       "      <td>0.0</td>\n",
       "      <td>0.0</td>\n",
       "      <td>1.0</td>\n",
       "      <td>0.0</td>\n",
       "      <td>0.0</td>\n",
       "      <td>...</td>\n",
       "      <td>0.0</td>\n",
       "      <td>0.0</td>\n",
       "      <td>0.0</td>\n",
       "      <td>0.0</td>\n",
       "      <td>0.0</td>\n",
       "      <td>35.0</td>\n",
       "      <td>1.0</td>\n",
       "      <td>0.0</td>\n",
       "      <td>53.1000</td>\n",
       "      <td>113803.0</td>\n",
       "    </tr>\n",
       "    <tr>\n",
       "      <th>4</th>\n",
       "      <td>1.0</td>\n",
       "      <td>0.0</td>\n",
       "      <td>0.0</td>\n",
       "      <td>0.0</td>\n",
       "      <td>1.0</td>\n",
       "      <td>0.0</td>\n",
       "      <td>0.0</td>\n",
       "      <td>1.0</td>\n",
       "      <td>0.0</td>\n",
       "      <td>0.0</td>\n",
       "      <td>...</td>\n",
       "      <td>0.0</td>\n",
       "      <td>0.0</td>\n",
       "      <td>0.0</td>\n",
       "      <td>0.0</td>\n",
       "      <td>0.0</td>\n",
       "      <td>35.0</td>\n",
       "      <td>0.0</td>\n",
       "      <td>0.0</td>\n",
       "      <td>8.0500</td>\n",
       "      <td>373450.0</td>\n",
       "    </tr>\n",
       "  </tbody>\n",
       "</table>\n",
       "<p>5 rows × 30 columns</p>\n",
       "</div>"
      ],
      "text/plain": [
       "   Sex_male  Has_Cabin_True  Pclass_1  Pclass_2  Pclass_3  Embarked_C  \\\n",
       "0       1.0             0.0       0.0       0.0       1.0         0.0   \n",
       "1       0.0             1.0       1.0       0.0       0.0         1.0   \n",
       "2       0.0             0.0       0.0       0.0       1.0         0.0   \n",
       "3       0.0             1.0       1.0       0.0       0.0         0.0   \n",
       "4       1.0             0.0       0.0       0.0       1.0         0.0   \n",
       "\n",
       "   Embarked_Q  Embarked_S  Title_Dr.  Title_Miss.  ...  Ticket_Text_S  \\\n",
       "0         0.0         1.0        0.0          0.0  ...            0.0   \n",
       "1         0.0         0.0        0.0          0.0  ...            0.0   \n",
       "2         0.0         1.0        0.0          1.0  ...            0.0   \n",
       "3         0.0         1.0        0.0          0.0  ...            0.0   \n",
       "4         0.0         1.0        0.0          0.0  ...            0.0   \n",
       "\n",
       "   Ticket_Text_SC  Ticket_Text_SOTON  Ticket_Text_STON  Ticket_Text_W   Age  \\\n",
       "0             0.0                0.0               0.0            0.0  22.0   \n",
       "1             0.0                0.0               0.0            0.0  38.0   \n",
       "2             0.0                0.0               1.0            0.0  26.0   \n",
       "3             0.0                0.0               0.0            0.0  35.0   \n",
       "4             0.0                0.0               0.0            0.0  35.0   \n",
       "\n",
       "   SibSp  Parch     Fare  Ticket_Number  \n",
       "0    1.0    0.0   7.2500        21171.0  \n",
       "1    1.0    0.0  71.2833        17599.0  \n",
       "2    0.0    0.0   7.9250      3101282.0  \n",
       "3    1.0    0.0  53.1000       113803.0  \n",
       "4    0.0    0.0   8.0500       373450.0  \n",
       "\n",
       "[5 rows x 30 columns]"
      ]
     },
     "execution_count": 178,
     "metadata": {},
     "output_type": "execute_result"
    }
   ],
   "source": [
    "input_train_df = pd.concat([categorical_train_df, numerical_train_df], axis=1)[input_features]\n",
    "input_serving_df = pd.concat([categorical_serving_df, numerical_serving_df], axis=1)[input_features]\n",
    "\n",
    "input_train_df = input_train_df.astype(float)\n",
    "input_serving_df = input_serving_df.astype(float)\n",
    "\n",
    "input_train_df.head()"
   ]
  },
  {
   "cell_type": "code",
   "execution_count": 179,
   "id": "d0fe73fc-a683-4121-8650-2eaea98694b4",
   "metadata": {},
   "outputs": [],
   "source": [
    "output_train = train_df['Survived']"
   ]
  },
  {
   "cell_type": "markdown",
   "id": "b14eb7e8-7bb9-4311-bc37-b0e5f0047d2c",
   "metadata": {},
   "source": [
    "It should be noted that there was also the option to use 'from sklearn.preprocessing import StandardScaler' to scale the features."
   ]
  },
  {
   "cell_type": "markdown",
   "id": "87304f3a-c68e-4e61-8bdc-4727fe3d07fc",
   "metadata": {},
   "source": [
    "### Splitting the data for training and validation"
   ]
  },
  {
   "cell_type": "code",
   "execution_count": 180,
   "id": "baa36773-0f00-4c6a-a54f-816a24e3c93f",
   "metadata": {},
   "outputs": [],
   "source": [
    "X = input_train_df\n",
    "y = train_df['Survived']\n",
    "X_train, X_test, y_train, y_test = train_test_split(X, y, test_size=0.2, random_state=1)"
   ]
  },
  {
   "cell_type": "markdown",
   "id": "5fd3dfdf-ad42-4d26-9c44-063d788080c2",
   "metadata": {},
   "source": [
    "### Balancing the dataset through Oversampling"
   ]
  },
  {
   "cell_type": "markdown",
   "id": "0d560cd9-fb04-42d8-887f-61cfee5b58e1",
   "metadata": {},
   "source": [
    "Different strategies to balance the samples include : \n",
    "- Oversampling\n",
    "- Undersampling\n",
    "- Class weight\n",
    "- Decision threshold\n",
    "https://towardsdatascience.com/how-to-balance-a-dataset-in-python-36dff9d12704\n",
    "\n",
    "In this solution, we will use oversampling."
   ]
  },
  {
   "cell_type": "code",
   "execution_count": 182,
   "id": "901d50bf-958b-49f1-b891-d7509af73499",
   "metadata": {},
   "outputs": [],
   "source": [
    "def plot_classes(y):\n",
    "    plt.title('Class distribution')\n",
    "    plt.pie(x=y.value_counts(), autopct='%.2f', labels=['Dead', 'Survived'])\n",
    "    \n",
    "    print(y.value_counts())"
   ]
  },
  {
   "cell_type": "code",
   "execution_count": 184,
   "id": "4cb4d079-89d1-40ac-a8d3-ed64f906fe3f",
   "metadata": {},
   "outputs": [
    {
     "name": "stdout",
     "output_type": "stream",
     "text": [
      "0    443\n",
      "1    269\n",
      "Name: Survived, dtype: int64\n"
     ]
    },
    {
     "data": {
      "image/png": "[encoded data removed]",
      "text/plain": [
       "<Figure size 640x480 with 1 Axes>"
      ]
     },
     "metadata": {},
     "output_type": "display_data"
    }
   ],
   "source": [
    "plot_classes(y_train)"
   ]
  },
  {
   "cell_type": "code",
   "execution_count": 188,
   "id": "b6e406f0-e831-4e4e-ac84-e3d2cbe83917",
   "metadata": {},
   "outputs": [
    {
     "name": "stdout",
     "output_type": "stream",
     "text": [
      "1    443\n",
      "0    443\n",
      "Name: Survived, dtype: int64\n"
     ]
    },
    {
     "data": {
      "image/png": "[encoded data removed]",
      "text/plain": [
       "<Figure size 640x480 with 1 Axes>"
      ]
     },
     "metadata": {},
     "output_type": "display_data"
    }
   ],
   "source": [
    "smote_oversampler = SMOTE(random_state=1)\n",
    "X_train_res, y_train_res = smote_oversampler.fit_resample(X_train, y_train)\n",
    "plot_classes(y_train_res)"
   ]
  },
  {
   "cell_type": "markdown",
   "id": "face6e27-4205-462e-aec7-cc0154177808",
   "metadata": {},
   "source": [
    "## 6. Model building"
   ]
  },
  {
   "cell_type": "markdown",
   "id": "11053e82-efe1-43f0-a3aa-4b7a53573dc1",
   "metadata": {},
   "source": [
    "### Random Forest Classifier"
   ]
  },
  {
   "cell_type": "code",
   "execution_count": 190,
   "id": "e3e18e62-a49c-400a-ab41-e87147c0c9c5",
   "metadata": {},
   "outputs": [],
   "source": [
    "from sklearn.ensemble import RandomForestClassifier\n",
    "\n",
    "rf_cf = RandomForestClassifier()"
   ]
  },
  {
   "cell_type": "markdown",
   "id": "7445a0c6-06e7-435d-9d61-86484eae61a2",
   "metadata": {},
   "source": [
    "Tuning"
   ]
  },
  {
   "cell_type": "code",
   "execution_count": null,
   "id": "2f766e8d-cfc7-473b-b21b-66844f83db4a",
   "metadata": {},
   "outputs": [],
   "source": [
    "param_grid = {\n",
    "    'max_depth': [2, 4, 6, 8, 10],\n",
    "    'n_estimators': [100,200,300,400,500],\n",
    "    'max_depth': []\n",
    "}"
   ]
  },
  {
   "cell_type": "markdown",
   "id": "36c3b5d4-04a6-404d-92f7-e1b449b8bd26",
   "metadata": {},
   "source": [
    "## 8. Ensemble Model Building"
   ]
  },
  {
   "cell_type": "code",
   "execution_count": null,
   "id": "e27800a6-121e-4a0c-bbef-f4680e430adf",
   "metadata": {},
   "outputs": [],
   "source": []
  },
  {
   "cell_type": "markdown",
   "id": "5702e38b-6877-44e4-9c4b-68fab3f7e258",
   "metadata": {},
   "source": [
    "## 9. Results"
   ]
  },
  {
   "cell_type": "code",
   "execution_count": null,
   "id": "76e27583-4341-4938-be82-6360a4a687d5",
   "metadata": {},
   "outputs": [],
   "source": []
  },
  {
   "cell_type": "code",
   "execution_count": null,
   "id": "c8232c5f-42a5-4a03-90cd-cfc65b1523e7",
   "metadata": {},
   "outputs": [],
   "source": []
  },
  {
   "cell_type": "code",
   "execution_count": null,
   "id": "54f28a9d-35d4-46dc-8eab-2d6755426ace",
   "metadata": {},
   "outputs": [],
   "source": []
  },
  {
   "cell_type": "code",
   "execution_count": null,
   "id": "2766a618-f93b-486d-aa68-96fe558d14e0",
   "metadata": {},
   "outputs": [],
   "source": []
  },
  {
   "cell_type": "code",
   "execution_count": null,
   "id": "d317fc61-04c5-469f-9c8a-9e13a5e86e49",
   "metadata": {},
   "outputs": [],
   "source": []
  },
  {
   "cell_type": "code",
   "execution_count": null,
   "id": "b407666a-ae59-45c1-81d7-d8f7c200930b",
   "metadata": {},
   "outputs": [],
   "source": []
  },
  {
   "cell_type": "code",
   "execution_count": null,
   "id": "47a056bb-68c2-4684-aba1-44fdefd649cc",
   "metadata": {},
   "outputs": [],
   "source": []
  }
 ],
 "metadata": {
  "kernelspec": {
   "display_name": "Python 3 (ipykernel)",
   "language": "python",
   "name": "python3"
  },
  "language_info": {
   "codemirror_mode": {
    "name": "ipython",
    "version": 3
   },
   "file_extension": ".py",
   "mimetype": "text/x-python",
   "name": "python",
   "nbconvert_exporter": "python",
   "pygments_lexer": "ipython3",
   "version": "3.9.13"
  }
 },
 "nbformat": 4,
 "nbformat_minor": 5
}
