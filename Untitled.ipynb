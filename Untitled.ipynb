{
 "cells": [
  {
   "cell_type": "code",
   "execution_count": 3,
   "id": "5541f7c9-2a96-474e-ab6a-ac316b433031",
   "metadata": {},
   "outputs": [],
   "source": [
    "import numpy as np\n",
    "import pandas as pd\n",
    "import os\n",
    "\n",
    "from sklearn import tree\n",
    "from sklearn.preprocessing import LabelEncoder"
   ]
  },
  {
   "cell_type": "markdown",
   "id": "0dcc398a-a617-47b6-92fb-b0f9b4239d4a",
   "metadata": {},
   "source": [
    "## Setup"
   ]
  },
  {
   "cell_type": "code",
   "execution_count": 39,
   "id": "01514166-1934-437b-ae9c-68811b22f5b4",
   "metadata": {},
   "outputs": [],
   "source": [
    "data_training = pd.read_csv(\"dataset/train.csv\")\n",
    "data_goal = pd.read_csv(\"dataset/test.csv\")"
   ]
  },
  {
   "cell_type": "markdown",
   "id": "229ee47d-83d0-443b-bdf9-5e261a0102e6",
   "metadata": {},
   "source": [
    "## Data exploration"
   ]
  },
  {
   "cell_type": "code",
   "execution_count": 5,
   "id": "0f7731a3-6485-4944-acc1-27021d32e059",
   "metadata": {},
   "outputs": [
    {
     "name": "stdout",
     "output_type": "stream",
     "text": [
      "<class 'pandas.core.frame.DataFrame'>\n",
      "RangeIndex: 891 entries, 0 to 890\n",
      "Data columns (total 12 columns):\n",
      " #   Column       Non-Null Count  Dtype  \n",
      "---  ------       --------------  -----  \n",
      " 0   PassengerId  891 non-null    int64  \n",
      " 1   Survived     891 non-null    int64  \n",
      " 2   Pclass       891 non-null    int64  \n",
      " 3   Name         891 non-null    object \n",
      " 4   Sex          891 non-null    object \n",
      " 5   Age          714 non-null    float64\n",
      " 6   SibSp        891 non-null    int64  \n",
      " 7   Parch        891 non-null    int64  \n",
      " 8   Ticket       891 non-null    object \n",
      " 9   Fare         891 non-null    float64\n",
      " 10  Cabin        204 non-null    object \n",
      " 11  Embarked     889 non-null    object \n",
      "dtypes: float64(2), int64(5), object(5)\n",
      "memory usage: 83.7+ KB\n"
     ]
    }
   ],
   "source": [
    "data_training.info()"
   ]
  },
  {
   "cell_type": "code",
   "execution_count": 6,
   "id": "286eb2ea-a792-40a3-8d0d-e2ca8df04369",
   "metadata": {},
   "outputs": [
    {
     "data": {
      "text/html": [
       "<div>\n",
       "<style scoped>\n",
       "    .dataframe tbody tr th:only-of-type {\n",
       "        vertical-align: middle;\n",
       "    }\n",
       "\n",
       "    .dataframe tbody tr th {\n",
       "        vertical-align: top;\n",
       "    }\n",
       "\n",
       "    .dataframe thead th {\n",
       "        text-align: right;\n",
       "    }\n",
       "</style>\n",
       "<table border=\"1\" class=\"dataframe\">\n",
       "  <thead>\n",
       "    <tr style=\"text-align: right;\">\n",
       "      <th></th>\n",
       "      <th>PassengerId</th>\n",
       "      <th>Survived</th>\n",
       "      <th>Pclass</th>\n",
       "      <th>Name</th>\n",
       "      <th>Sex</th>\n",
       "      <th>Age</th>\n",
       "      <th>SibSp</th>\n",
       "      <th>Parch</th>\n",
       "      <th>Ticket</th>\n",
       "      <th>Fare</th>\n",
       "      <th>Cabin</th>\n",
       "      <th>Embarked</th>\n",
       "    </tr>\n",
       "  </thead>\n",
       "  <tbody>\n",
       "    <tr>\n",
       "      <th>0</th>\n",
       "      <td>1</td>\n",
       "      <td>0</td>\n",
       "      <td>3</td>\n",
       "      <td>Braund, Mr. Owen Harris</td>\n",
       "      <td>male</td>\n",
       "      <td>22.0</td>\n",
       "      <td>1</td>\n",
       "      <td>0</td>\n",
       "      <td>A/5 21171</td>\n",
       "      <td>7.2500</td>\n",
       "      <td>NaN</td>\n",
       "      <td>S</td>\n",
       "    </tr>\n",
       "    <tr>\n",
       "      <th>1</th>\n",
       "      <td>2</td>\n",
       "      <td>1</td>\n",
       "      <td>1</td>\n",
       "      <td>Cumings, Mrs. John Bradley (Florence Briggs Th...</td>\n",
       "      <td>female</td>\n",
       "      <td>38.0</td>\n",
       "      <td>1</td>\n",
       "      <td>0</td>\n",
       "      <td>PC 17599</td>\n",
       "      <td>71.2833</td>\n",
       "      <td>C85</td>\n",
       "      <td>C</td>\n",
       "    </tr>\n",
       "    <tr>\n",
       "      <th>2</th>\n",
       "      <td>3</td>\n",
       "      <td>1</td>\n",
       "      <td>3</td>\n",
       "      <td>Heikkinen, Miss. Laina</td>\n",
       "      <td>female</td>\n",
       "      <td>26.0</td>\n",
       "      <td>0</td>\n",
       "      <td>0</td>\n",
       "      <td>STON/O2. 3101282</td>\n",
       "      <td>7.9250</td>\n",
       "      <td>NaN</td>\n",
       "      <td>S</td>\n",
       "    </tr>\n",
       "    <tr>\n",
       "      <th>3</th>\n",
       "      <td>4</td>\n",
       "      <td>1</td>\n",
       "      <td>1</td>\n",
       "      <td>Futrelle, Mrs. Jacques Heath (Lily May Peel)</td>\n",
       "      <td>female</td>\n",
       "      <td>35.0</td>\n",
       "      <td>1</td>\n",
       "      <td>0</td>\n",
       "      <td>113803</td>\n",
       "      <td>53.1000</td>\n",
       "      <td>C123</td>\n",
       "      <td>S</td>\n",
       "    </tr>\n",
       "    <tr>\n",
       "      <th>4</th>\n",
       "      <td>5</td>\n",
       "      <td>0</td>\n",
       "      <td>3</td>\n",
       "      <td>Allen, Mr. William Henry</td>\n",
       "      <td>male</td>\n",
       "      <td>35.0</td>\n",
       "      <td>0</td>\n",
       "      <td>0</td>\n",
       "      <td>373450</td>\n",
       "      <td>8.0500</td>\n",
       "      <td>NaN</td>\n",
       "      <td>S</td>\n",
       "    </tr>\n",
       "  </tbody>\n",
       "</table>\n",
       "</div>"
      ],
      "text/plain": [
       "   PassengerId  Survived  Pclass  \\\n",
       "0            1         0       3   \n",
       "1            2         1       1   \n",
       "2            3         1       3   \n",
       "3            4         1       1   \n",
       "4            5         0       3   \n",
       "\n",
       "                                                Name     Sex   Age  SibSp  \\\n",
       "0                            Braund, Mr. Owen Harris    male  22.0      1   \n",
       "1  Cumings, Mrs. John Bradley (Florence Briggs Th...  female  38.0      1   \n",
       "2                             Heikkinen, Miss. Laina  female  26.0      0   \n",
       "3       Futrelle, Mrs. Jacques Heath (Lily May Peel)  female  35.0      1   \n",
       "4                           Allen, Mr. William Henry    male  35.0      0   \n",
       "\n",
       "   Parch            Ticket     Fare Cabin Embarked  \n",
       "0      0         A/5 21171   7.2500   NaN        S  \n",
       "1      0          PC 17599  71.2833   C85        C  \n",
       "2      0  STON/O2. 3101282   7.9250   NaN        S  \n",
       "3      0            113803  53.1000  C123        S  \n",
       "4      0            373450   8.0500   NaN        S  "
      ]
     },
     "execution_count": 6,
     "metadata": {},
     "output_type": "execute_result"
    }
   ],
   "source": [
    "data_training.head()"
   ]
  },
  {
   "cell_type": "code",
   "execution_count": 7,
   "id": "0c8fe27d-3e31-4318-aa31-6ee9e6968a83",
   "metadata": {},
   "outputs": [
    {
     "data": {
      "text/plain": [
       "Index(['PassengerId', 'Survived', 'Pclass', 'Name', 'Sex', 'Age', 'SibSp',\n",
       "       'Parch', 'Ticket', 'Fare', 'Cabin', 'Embarked'],\n",
       "      dtype='object')"
      ]
     },
     "execution_count": 7,
     "metadata": {},
     "output_type": "execute_result"
    }
   ],
   "source": [
    "data_training.columns"
   ]
  },
  {
   "cell_type": "code",
   "execution_count": 8,
   "id": "45b99b8b-e08d-4c1b-9e46-7489dc79c671",
   "metadata": {},
   "outputs": [
    {
     "data": {
      "text/html": [
       "<div>\n",
       "<style scoped>\n",
       "    .dataframe tbody tr th:only-of-type {\n",
       "        vertical-align: middle;\n",
       "    }\n",
       "\n",
       "    .dataframe tbody tr th {\n",
       "        vertical-align: top;\n",
       "    }\n",
       "\n",
       "    .dataframe thead th {\n",
       "        text-align: right;\n",
       "    }\n",
       "</style>\n",
       "<table border=\"1\" class=\"dataframe\">\n",
       "  <thead>\n",
       "    <tr style=\"text-align: right;\">\n",
       "      <th></th>\n",
       "      <th>PassengerId</th>\n",
       "      <th>Survived</th>\n",
       "      <th>Pclass</th>\n",
       "      <th>Age</th>\n",
       "      <th>SibSp</th>\n",
       "      <th>Parch</th>\n",
       "      <th>Fare</th>\n",
       "    </tr>\n",
       "  </thead>\n",
       "  <tbody>\n",
       "    <tr>\n",
       "      <th>PassengerId</th>\n",
       "      <td>1.000000</td>\n",
       "      <td>-0.005007</td>\n",
       "      <td>-0.035144</td>\n",
       "      <td>0.036847</td>\n",
       "      <td>-0.057527</td>\n",
       "      <td>-0.001652</td>\n",
       "      <td>0.012658</td>\n",
       "    </tr>\n",
       "    <tr>\n",
       "      <th>Survived</th>\n",
       "      <td>-0.005007</td>\n",
       "      <td>1.000000</td>\n",
       "      <td>-0.338481</td>\n",
       "      <td>-0.077221</td>\n",
       "      <td>-0.035322</td>\n",
       "      <td>0.081629</td>\n",
       "      <td>0.257307</td>\n",
       "    </tr>\n",
       "    <tr>\n",
       "      <th>Pclass</th>\n",
       "      <td>-0.035144</td>\n",
       "      <td>-0.338481</td>\n",
       "      <td>1.000000</td>\n",
       "      <td>-0.369226</td>\n",
       "      <td>0.083081</td>\n",
       "      <td>0.018443</td>\n",
       "      <td>-0.549500</td>\n",
       "    </tr>\n",
       "    <tr>\n",
       "      <th>Age</th>\n",
       "      <td>0.036847</td>\n",
       "      <td>-0.077221</td>\n",
       "      <td>-0.369226</td>\n",
       "      <td>1.000000</td>\n",
       "      <td>-0.308247</td>\n",
       "      <td>-0.189119</td>\n",
       "      <td>0.096067</td>\n",
       "    </tr>\n",
       "    <tr>\n",
       "      <th>SibSp</th>\n",
       "      <td>-0.057527</td>\n",
       "      <td>-0.035322</td>\n",
       "      <td>0.083081</td>\n",
       "      <td>-0.308247</td>\n",
       "      <td>1.000000</td>\n",
       "      <td>0.414838</td>\n",
       "      <td>0.159651</td>\n",
       "    </tr>\n",
       "    <tr>\n",
       "      <th>Parch</th>\n",
       "      <td>-0.001652</td>\n",
       "      <td>0.081629</td>\n",
       "      <td>0.018443</td>\n",
       "      <td>-0.189119</td>\n",
       "      <td>0.414838</td>\n",
       "      <td>1.000000</td>\n",
       "      <td>0.216225</td>\n",
       "    </tr>\n",
       "    <tr>\n",
       "      <th>Fare</th>\n",
       "      <td>0.012658</td>\n",
       "      <td>0.257307</td>\n",
       "      <td>-0.549500</td>\n",
       "      <td>0.096067</td>\n",
       "      <td>0.159651</td>\n",
       "      <td>0.216225</td>\n",
       "      <td>1.000000</td>\n",
       "    </tr>\n",
       "  </tbody>\n",
       "</table>\n",
       "</div>"
      ],
      "text/plain": [
       "             PassengerId  Survived    Pclass       Age     SibSp     Parch  \\\n",
       "PassengerId     1.000000 -0.005007 -0.035144  0.036847 -0.057527 -0.001652   \n",
       "Survived       -0.005007  1.000000 -0.338481 -0.077221 -0.035322  0.081629   \n",
       "Pclass         -0.035144 -0.338481  1.000000 -0.369226  0.083081  0.018443   \n",
       "Age             0.036847 -0.077221 -0.369226  1.000000 -0.308247 -0.189119   \n",
       "SibSp          -0.057527 -0.035322  0.083081 -0.308247  1.000000  0.414838   \n",
       "Parch          -0.001652  0.081629  0.018443 -0.189119  0.414838  1.000000   \n",
       "Fare            0.012658  0.257307 -0.549500  0.096067  0.159651  0.216225   \n",
       "\n",
       "                 Fare  \n",
       "PassengerId  0.012658  \n",
       "Survived     0.257307  \n",
       "Pclass      -0.549500  \n",
       "Age          0.096067  \n",
       "SibSp        0.159651  \n",
       "Parch        0.216225  \n",
       "Fare         1.000000  "
      ]
     },
     "execution_count": 8,
     "metadata": {},
     "output_type": "execute_result"
    }
   ],
   "source": [
    "data_training.corr()"
   ]
  },
  {
   "cell_type": "code",
   "execution_count": 40,
   "id": "55087645-f042-43fb-999d-f8b7561f2295",
   "metadata": {},
   "outputs": [
    {
     "name": "stdout",
     "output_type": "stream",
     "text": [
      "<class 'pandas.core.frame.DataFrame'>\n",
      "RangeIndex: 418 entries, 0 to 417\n",
      "Data columns (total 11 columns):\n",
      " #   Column       Non-Null Count  Dtype  \n",
      "---  ------       --------------  -----  \n",
      " 0   PassengerId  418 non-null    int64  \n",
      " 1   Pclass       418 non-null    int64  \n",
      " 2   Name         418 non-null    object \n",
      " 3   Sex          418 non-null    object \n",
      " 4   Age          332 non-null    float64\n",
      " 5   SibSp        418 non-null    int64  \n",
      " 6   Parch        418 non-null    int64  \n",
      " 7   Ticket       418 non-null    object \n",
      " 8   Fare         417 non-null    float64\n",
      " 9   Cabin        91 non-null     object \n",
      " 10  Embarked     418 non-null    object \n",
      "dtypes: float64(2), int64(4), object(5)\n",
      "memory usage: 36.0+ KB\n"
     ]
    }
   ],
   "source": [
    "data_goal.info()"
   ]
  },
  {
   "cell_type": "markdown",
   "id": "edcf9b10-cdff-43cd-8a71-8a3656ed289e",
   "metadata": {
    "tags": []
   },
   "source": [
    "## Data cleaning\n",
    "We must make sure to remove :\n",
    "- Empty cells\n",
    "- Data in wrong format\n",
    "- Wrong data\n",
    "- Duplicates"
   ]
  },
  {
   "cell_type": "markdown",
   "id": "d4249c81-dd8d-47a3-9042-3105b1d83042",
   "metadata": {},
   "source": [
    "### Empty values cleanup"
   ]
  },
  {
   "cell_type": "code",
   "execution_count": 10,
   "id": "4e8dac8e-74f2-4800-bf21-62767cfbf523",
   "metadata": {},
   "outputs": [
    {
     "data": {
      "text/plain": [
       "0"
      ]
     },
     "execution_count": 10,
     "metadata": {},
     "output_type": "execute_result"
    }
   ],
   "source": [
    "len(data_training[data_training.duplicated() == True])"
   ]
  },
  {
   "cell_type": "markdown",
   "id": "df570195-a0f8-4bcd-9803-ef92a35ac3bc",
   "metadata": {},
   "source": [
    "### Column by column analysis"
   ]
  },
  {
   "cell_type": "code",
   "execution_count": 11,
   "id": "15bf84ae-8d50-4555-a586-9eda66aa49d8",
   "metadata": {},
   "outputs": [
    {
     "name": "stdout",
     "output_type": "stream",
     "text": [
      "The collumns are: PassengerId, Survived, Pclass, Name, Sex, Age, SibSp, Parch, Ticket, Fare, Cabin, Embarked\n"
     ]
    }
   ],
   "source": [
    "print('The collumns are:', \", \".join(data_training.columns))"
   ]
  },
  {
   "cell_type": "markdown",
   "id": "bb2c41fb-0e58-4193-9aeb-fcd047584d92",
   "metadata": {},
   "source": [
    "#### PassagerId"
   ]
  },
  {
   "cell_type": "code",
   "execution_count": 12,
   "id": "e3f0ebef-4dd7-43bf-a893-c349fd89d91b",
   "metadata": {},
   "outputs": [
    {
     "name": "stdout",
     "output_type": "stream",
     "text": [
      "Has nans: False\n",
      "Has duplicates False\n"
     ]
    }
   ],
   "source": [
    "print('Has nans:', data_training['PassengerId'].hasnans)\n",
    "print('Has duplicates', data_training['PassengerId'].duplicated().any())"
   ]
  },
  {
   "cell_type": "markdown",
   "id": "6eea8237-fcb3-4bf6-a0f1-0e087ab78aaa",
   "metadata": {},
   "source": [
    "#### Survived"
   ]
  },
  {
   "cell_type": "code",
   "execution_count": 13,
   "id": "3e40297e-8ac8-43f2-8a20-591706aba75b",
   "metadata": {},
   "outputs": [
    {
     "name": "stdout",
     "output_type": "stream",
     "text": [
      "Unique values:  [0 1]\n"
     ]
    }
   ],
   "source": [
    "print('Unique values: ', data_training['Survived'].unique())"
   ]
  },
  {
   "cell_type": "markdown",
   "id": "01fda8d2-39ef-4311-b323-01b025241e22",
   "metadata": {},
   "source": [
    "#### Pclass"
   ]
  },
  {
   "cell_type": "code",
   "execution_count": 14,
   "id": "628cb806-73e6-458b-9a2c-117789acbce3",
   "metadata": {},
   "outputs": [
    {
     "name": "stdout",
     "output_type": "stream",
     "text": [
      "Unique values:  [3 1 2]\n"
     ]
    }
   ],
   "source": [
    "print('Unique values: ', data_training['Pclass'].unique())"
   ]
  },
  {
   "cell_type": "markdown",
   "id": "c12c9339-f0a2-4db5-bf71-3f82d39a67a2",
   "metadata": {},
   "source": [
    "#### Name\n",
    "We can reasonably doubt that the name of the passagers had any impact on whether or not they were victims, therefore we will not include this feature."
   ]
  },
  {
   "cell_type": "code",
   "execution_count": 15,
   "id": "32c42725-c57b-484a-b16d-642c709a26ca",
   "metadata": {},
   "outputs": [
    {
     "name": "stdout",
     "output_type": "stream",
     "text": [
      "Unique values:  False\n"
     ]
    }
   ],
   "source": [
    "print('Unique values: ', data_training['Name'].duplicated().any())"
   ]
  },
  {
   "cell_type": "markdown",
   "id": "6c2c05d0-dc00-45a4-8cc1-29d4c7f7b805",
   "metadata": {},
   "source": [
    "#### Sex"
   ]
  },
  {
   "cell_type": "code",
   "execution_count": 16,
   "id": "e2c176e3-44d2-48d2-8d8d-af2428990865",
   "metadata": {},
   "outputs": [
    {
     "name": "stdout",
     "output_type": "stream",
     "text": [
      "Initial unique values: ['male' 'female']\n"
     ]
    }
   ],
   "source": [
    "print('Initial unique values:', data_training['Sex'].unique())"
   ]
  },
  {
   "cell_type": "code",
   "execution_count": 17,
   "id": "c90d7885-dd77-48f2-a821-2f9770f4c7e8",
   "metadata": {},
   "outputs": [
    {
     "name": "stdout",
     "output_type": "stream",
     "text": [
      "New unique values: [1 0]\n"
     ]
    }
   ],
   "source": [
    "labelEncoder_sex = LabelEncoder()\n",
    "data_training['Sex_Num'] = labelEncoder_sex.fit_transform(data_training['Sex'])\n",
    "print('New unique values:', data_training['Sex_Num'].unique())"
   ]
  },
  {
   "cell_type": "markdown",
   "id": "d4ad0bc8-27e1-47dd-ae30-70e7f51aaa3c",
   "metadata": {},
   "source": [
    "#### Age"
   ]
  },
  {
   "cell_type": "code",
   "execution_count": 18,
   "id": "65164913-9b39-4460-8ec2-a0d18fdbb646",
   "metadata": {},
   "outputs": [
    {
     "name": "stdout",
     "output_type": "stream",
     "text": [
      "Age range: 0.42 to 80.0\n"
     ]
    }
   ],
   "source": [
    "# We will use a simple approach to fill the missing values for the age : we will insert the average value\n",
    "data_training.loc[data_training['Age'].isnull(), 'Age'] = data_training['Age'].mean()\n",
    "\n",
    "print('Age range:', np.min(data_training['Age']), 'to', np.max(data_training['Age']))"
   ]
  },
  {
   "cell_type": "markdown",
   "id": "73169584-d244-4704-9a8f-64a38ccab21a",
   "metadata": {},
   "source": [
    "#### SibSp"
   ]
  },
  {
   "cell_type": "code",
   "execution_count": 19,
   "id": "69bd06ac-901c-4f87-af33-9466d50db16d",
   "metadata": {},
   "outputs": [
    {
     "name": "stdout",
     "output_type": "stream",
     "text": [
      "Unique values: [1 0 3 4 2 5 8]\n"
     ]
    }
   ],
   "source": [
    "print('Unique values:', data_training['SibSp'].unique())"
   ]
  },
  {
   "cell_type": "markdown",
   "id": "1f0f3aad-475f-451b-aeee-e7d05f444ce5",
   "metadata": {},
   "source": [
    "#### Parch"
   ]
  },
  {
   "cell_type": "code",
   "execution_count": 20,
   "id": "71439a7b-b6f4-4667-b6be-abda0437d7e8",
   "metadata": {},
   "outputs": [
    {
     "name": "stdout",
     "output_type": "stream",
     "text": [
      "Unique values: [0 1 2 5 3 4 6]\n"
     ]
    }
   ],
   "source": [
    "print('Unique values:', data_training['Parch'].unique())"
   ]
  },
  {
   "cell_type": "markdown",
   "id": "8964a9b0-704c-48ac-9ae6-268f0e0a8ce0",
   "metadata": {},
   "source": [
    "#### Ticket\n",
    "For the moment, we will not use this information as it is not clear yet how it can be used as every value is unique"
   ]
  },
  {
   "cell_type": "code",
   "execution_count": 21,
   "id": "5e83ca6c-9925-4eb0-8586-0c70df08d9c2",
   "metadata": {},
   "outputs": [
    {
     "name": "stdout",
     "output_type": "stream",
     "text": [
      "Number unique values: 681\n"
     ]
    }
   ],
   "source": [
    "print('Number unique values:', len(data_training['Ticket'].unique()))"
   ]
  },
  {
   "cell_type": "code",
   "execution_count": 22,
   "id": "cd1c2626-4509-455b-8646-dfa8926c5826",
   "metadata": {},
   "outputs": [
    {
     "name": "stdout",
     "output_type": "stream",
     "text": [
      "Unique Ticket codes:\n",
      " ['A5' 'PC' 'STONO2' '' 'PP' 'CA' 'SCPARIS' 'SCA4' 'A4' 'SP' 'SOC' 'WC'\n",
      " 'SOTONOQ' 'WEP' 'C' 'SOP' 'FA' 'FCC' 'SWPP' 'SCOW' 'PPP' 'SC' 'SCAH' 'AS'\n",
      " 'SCAHBASLE' 'SOPP' 'FC' 'SOTONO2' 'CASOTON']\n"
     ]
    }
   ],
   "source": [
    "# Ticket code\n",
    "data_training['Ticket_Code'] = data_training['Ticket'].str.split(' ', expand=False).apply(lambda list : \" \".join(list[:-1]))\n",
    "data_training['Ticket_Code'] = data_training['Ticket_Code'].apply(lambda string : string.upper())\n",
    "data_training['Ticket_Code'] = data_training['Ticket_Code'].apply(lambda string : string.replace(\" \", \"\"))\n",
    "data_training['Ticket_Code'] = data_training['Ticket_Code'].apply(lambda string : string.replace(\".\", \"\"))\n",
    "data_training['Ticket_Code'] = data_training['Ticket_Code'].apply(lambda string : string.replace(\"/\", \"\"))\n",
    "print('Unique Ticket codes:\\n', data_training['Ticket_Code'].unique())"
   ]
  },
  {
   "cell_type": "code",
   "execution_count": 23,
   "id": "6c81dbf6-97b9-4955-a94d-abdf671e5b5c",
   "metadata": {},
   "outputs": [],
   "source": [
    "# Manual adjustments after examining the data\n",
    "data_training.loc[data_training['Ticket_Code'] == 'FC', 'Ticket_Code'] = 'FCC'\n",
    "data_training.loc[data_training['Ticket_Code'] == 'AS', 'Ticket_Code'] = 'A5'"
   ]
  },
  {
   "cell_type": "code",
   "execution_count": 25,
   "id": "b25d9417-9102-47be-934d-c63f81b3180a",
   "metadata": {},
   "outputs": [
    {
     "data": {
      "text/plain": [
       "['',\n",
       " 'A4',\n",
       " 'A5',\n",
       " 'C',\n",
       " 'CA',\n",
       " 'CASOTON',\n",
       " 'FA',\n",
       " 'FCC',\n",
       " 'PC',\n",
       " 'PP',\n",
       " 'PPP',\n",
       " 'SC',\n",
       " 'SCA4',\n",
       " 'SCAH',\n",
       " 'SCAHBASLE',\n",
       " 'SCOW',\n",
       " 'SCPARIS',\n",
       " 'SOC',\n",
       " 'SOP',\n",
       " 'SOPP',\n",
       " 'SOTONO2',\n",
       " 'SOTONOQ',\n",
       " 'SP',\n",
       " 'STONO2',\n",
       " 'SWPP',\n",
       " 'WC',\n",
       " 'WEP']"
      ]
     },
     "execution_count": 25,
     "metadata": {},
     "output_type": "execute_result"
    }
   ],
   "source": [
    "labelEncoder_ticket_code = LabelEncoder()\n",
    "data_training['Ticket_Code_Num'] = labelEncoder_ticket_code.fit_transform(data_training['Ticket_Code'])\n",
    "list(labelEncoder_ticket_code.classes_)"
   ]
  },
  {
   "cell_type": "markdown",
   "id": "ff535b22-5480-488e-8368-f1947d332fd8",
   "metadata": {},
   "source": [
    "#### Fare"
   ]
  },
  {
   "cell_type": "code",
   "execution_count": 26,
   "id": "97056cb4-2cc4-451b-85cb-e7df98369a2b",
   "metadata": {},
   "outputs": [
    {
     "name": "stdout",
     "output_type": "stream",
     "text": [
      "Number unique values: 248\n",
      "Fare range : 0.0 to 512.3292\n"
     ]
    }
   ],
   "source": [
    "print('Number unique values:', len(np.sort(data_training['Fare'].unique())))\n",
    "print('Fare range :', data_training['Fare'].min(), 'to', data_training['Fare'].max())"
   ]
  },
  {
   "cell_type": "markdown",
   "id": "83fcdf11-36f7-40bd-a9bd-367582c6c8c4",
   "metadata": {},
   "source": [
    "#### Cabin"
   ]
  },
  {
   "cell_type": "code",
   "execution_count": 27,
   "id": "9b685de4-ddcd-4fd8-ba15-28dd49939885",
   "metadata": {},
   "outputs": [
    {
     "name": "stdout",
     "output_type": "stream",
     "text": [
      "Unique values: [nan 'C85' 'C123' 'E46' 'G6' 'C103' 'D56' 'A6' 'C23 C25 C27' 'B78' 'D33'\n",
      " 'B30' 'C52' 'B28' 'C83' 'F33' 'F G73' 'E31' 'A5' 'D10 D12' 'D26' 'C110'\n",
      " 'B58 B60' 'E101' 'F E69' 'D47' 'B86' 'F2' 'C2' 'E33' 'B19' 'A7' 'C49'\n",
      " 'F4' 'A32' 'B4' 'B80' 'A31' 'D36' 'D15' 'C93' 'C78' 'D35' 'C87' 'B77'\n",
      " 'E67' 'B94' 'C125' 'C99' 'C118' 'D7' 'A19' 'B49' 'D' 'C22 C26' 'C106'\n",
      " 'C65' 'E36' 'C54' 'B57 B59 B63 B66' 'C7' 'E34' 'C32' 'B18' 'C124' 'C91'\n",
      " 'E40' 'T' 'C128' 'D37' 'B35' 'E50' 'C82' 'B96 B98' 'E10' 'E44' 'A34'\n",
      " 'C104' 'C111' 'C92' 'E38' 'D21' 'E12' 'E63' 'A14' 'B37' 'C30' 'D20' 'B79'\n",
      " 'E25' 'D46' 'B73' 'C95' 'B38' 'B39' 'B22' 'C86' 'C70' 'A16' 'C101' 'C68'\n",
      " 'A10' 'E68' 'B41' 'A20' 'D19' 'D50' 'D9' 'A23' 'B50' 'A26' 'D48' 'E58'\n",
      " 'C126' 'B71' 'B51 B53 B55' 'D49' 'B5' 'B20' 'F G63' 'C62 C64' 'E24' 'C90'\n",
      " 'C45' 'E8' 'B101' 'D45' 'C46' 'D30' 'E121' 'D11' 'E77' 'F38' 'B3' 'D6'\n",
      " 'B82 B84' 'D17' 'A36' 'B102' 'B69' 'E49' 'C47' 'D28' 'E17' 'A24' 'C50'\n",
      " 'B42' 'C148']\n"
     ]
    }
   ],
   "source": [
    "print('Unique values:', data_training['Cabin'].unique())"
   ]
  },
  {
   "cell_type": "code",
   "execution_count": 28,
   "id": "819e9b5f-6997-4fb9-90cd-426d773b2545",
   "metadata": {},
   "outputs": [],
   "source": [
    "data_training.loc[data_training['Cabin'].notnull(), 'Cabin_Code'] = data_training['Cabin'].str[0]"
   ]
  },
  {
   "cell_type": "code",
   "execution_count": 29,
   "id": "207075c0-7cdc-495e-bb50-017e375af8a6",
   "metadata": {},
   "outputs": [],
   "source": [
    "# We create a feature \"Cabin Code Num\"\n",
    "labelEncoder_cabin_code = LabelEncoder()\n",
    "data_training['Cabin_Code_Num'] = labelEncoder_cabin_code.fit_transform(data_training['Cabin_Code'])"
   ]
  },
  {
   "cell_type": "code",
   "execution_count": 30,
   "id": "6c653eac-c6fa-429e-9909-c0761adb1c4d",
   "metadata": {},
   "outputs": [
    {
     "data": {
      "text/plain": [
       "array(['A', 'B', 'C', 'D', 'E', 'F', 'G', 'T', nan], dtype=object)"
      ]
     },
     "execution_count": 30,
     "metadata": {},
     "output_type": "execute_result"
    }
   ],
   "source": [
    "labelEncoder_cabin_code.classes_"
   ]
  },
  {
   "cell_type": "markdown",
   "id": "59713a24-6904-48ee-be72-b8bf9fb65f50",
   "metadata": {},
   "source": [
    "#### Embarked"
   ]
  },
  {
   "cell_type": "code",
   "execution_count": 31,
   "id": "3cae7551-e2d3-4252-878e-9fd9afcd72fb",
   "metadata": {},
   "outputs": [
    {
     "name": "stdout",
     "output_type": "stream",
     "text": [
      "Unique values: ['S' 'C' 'Q' nan]\n"
     ]
    }
   ],
   "source": [
    "print('Unique values:', data_training['Embarked'].unique())"
   ]
  },
  {
   "cell_type": "code",
   "execution_count": 32,
   "id": "08ee54f4-1484-40da-8bf7-5438af7ab0e6",
   "metadata": {},
   "outputs": [],
   "source": [
    "# We create a feature \"Embarked Num\"\n",
    "labelEncoder_embarked = LabelEncoder()\n",
    "data_training['Embarked_Num'] = labelEncoder_embarked.fit_transform(data_training['Embarked'])"
   ]
  },
  {
   "cell_type": "markdown",
   "id": "76bf92d0-d9b4-43ce-a482-cf01e3f3ac52",
   "metadata": {},
   "source": [
    "## Experimenting with models"
   ]
  },
  {
   "cell_type": "code",
   "execution_count": 33,
   "id": "2312c232-2259-4e8f-96ee-c95435bc27ee",
   "metadata": {},
   "outputs": [],
   "source": [
    "X, Y = data_training.loc[:, ['Pclass', 'Sex_Num', 'Age', 'SibSp', 'Parch', 'Ticket_Code_Num', 'Fare', 'Cabin_Code_Num', 'Embarked_Num']], data_training.loc[:, 'Survived']"
   ]
  },
  {
   "cell_type": "code",
   "execution_count": 34,
   "id": "1939ac2e-67f5-4a53-aa17-2c90625bf2d2",
   "metadata": {},
   "outputs": [
    {
     "data": {
      "text/html": [
       "<div>\n",
       "<style scoped>\n",
       "    .dataframe tbody tr th:only-of-type {\n",
       "        vertical-align: middle;\n",
       "    }\n",
       "\n",
       "    .dataframe tbody tr th {\n",
       "        vertical-align: top;\n",
       "    }\n",
       "\n",
       "    .dataframe thead th {\n",
       "        text-align: right;\n",
       "    }\n",
       "</style>\n",
       "<table border=\"1\" class=\"dataframe\">\n",
       "  <thead>\n",
       "    <tr style=\"text-align: right;\">\n",
       "      <th></th>\n",
       "      <th>Pclass</th>\n",
       "      <th>Sex_Num</th>\n",
       "      <th>Age</th>\n",
       "      <th>SibSp</th>\n",
       "      <th>Parch</th>\n",
       "      <th>Ticket_Code_Num</th>\n",
       "      <th>Fare</th>\n",
       "      <th>Cabin_Code_Num</th>\n",
       "      <th>Embarked_Num</th>\n",
       "      <th>Survived</th>\n",
       "    </tr>\n",
       "  </thead>\n",
       "  <tbody>\n",
       "    <tr>\n",
       "      <th>Pclass</th>\n",
       "      <td>1.000000</td>\n",
       "      <td>0.131900</td>\n",
       "      <td>-0.331339</td>\n",
       "      <td>0.083081</td>\n",
       "      <td>0.018443</td>\n",
       "      <td>-0.027514</td>\n",
       "      <td>-0.549500</td>\n",
       "      <td>0.746616</td>\n",
       "      <td>0.157112</td>\n",
       "      <td>-0.338481</td>\n",
       "    </tr>\n",
       "    <tr>\n",
       "      <th>Sex_Num</th>\n",
       "      <td>0.131900</td>\n",
       "      <td>1.000000</td>\n",
       "      <td>0.084153</td>\n",
       "      <td>-0.114631</td>\n",
       "      <td>-0.245489</td>\n",
       "      <td>0.023097</td>\n",
       "      <td>-0.182333</td>\n",
       "      <td>0.123076</td>\n",
       "      <td>0.104057</td>\n",
       "      <td>-0.543351</td>\n",
       "    </tr>\n",
       "    <tr>\n",
       "      <th>Age</th>\n",
       "      <td>-0.331339</td>\n",
       "      <td>0.084153</td>\n",
       "      <td>1.000000</td>\n",
       "      <td>-0.232625</td>\n",
       "      <td>-0.179191</td>\n",
       "      <td>0.019969</td>\n",
       "      <td>0.091566</td>\n",
       "      <td>-0.249134</td>\n",
       "      <td>-0.022239</td>\n",
       "      <td>-0.069809</td>\n",
       "    </tr>\n",
       "    <tr>\n",
       "      <th>SibSp</th>\n",
       "      <td>0.083081</td>\n",
       "      <td>-0.114631</td>\n",
       "      <td>-0.232625</td>\n",
       "      <td>1.000000</td>\n",
       "      <td>0.414838</td>\n",
       "      <td>-0.015351</td>\n",
       "      <td>0.159651</td>\n",
       "      <td>0.041540</td>\n",
       "      <td>0.066654</td>\n",
       "      <td>-0.035322</td>\n",
       "    </tr>\n",
       "    <tr>\n",
       "      <th>Parch</th>\n",
       "      <td>0.018443</td>\n",
       "      <td>-0.245489</td>\n",
       "      <td>-0.179191</td>\n",
       "      <td>0.414838</td>\n",
       "      <td>1.000000</td>\n",
       "      <td>0.005542</td>\n",
       "      <td>0.216225</td>\n",
       "      <td>-0.032548</td>\n",
       "      <td>0.038322</td>\n",
       "      <td>0.081629</td>\n",
       "    </tr>\n",
       "    <tr>\n",
       "      <th>Ticket_Code_Num</th>\n",
       "      <td>-0.027514</td>\n",
       "      <td>0.023097</td>\n",
       "      <td>0.019969</td>\n",
       "      <td>-0.015351</td>\n",
       "      <td>0.005542</td>\n",
       "      <td>1.000000</td>\n",
       "      <td>0.074236</td>\n",
       "      <td>0.013002</td>\n",
       "      <td>-0.016145</td>\n",
       "      <td>-0.011526</td>\n",
       "    </tr>\n",
       "    <tr>\n",
       "      <th>Fare</th>\n",
       "      <td>-0.549500</td>\n",
       "      <td>-0.182333</td>\n",
       "      <td>0.091566</td>\n",
       "      <td>0.159651</td>\n",
       "      <td>0.216225</td>\n",
       "      <td>0.074236</td>\n",
       "      <td>1.000000</td>\n",
       "      <td>-0.523013</td>\n",
       "      <td>-0.221226</td>\n",
       "      <td>0.257307</td>\n",
       "    </tr>\n",
       "    <tr>\n",
       "      <th>Cabin_Code_Num</th>\n",
       "      <td>0.746616</td>\n",
       "      <td>0.123076</td>\n",
       "      <td>-0.249134</td>\n",
       "      <td>0.041540</td>\n",
       "      <td>-0.032548</td>\n",
       "      <td>0.013002</td>\n",
       "      <td>-0.523013</td>\n",
       "      <td>1.000000</td>\n",
       "      <td>0.187015</td>\n",
       "      <td>-0.301116</td>\n",
       "    </tr>\n",
       "    <tr>\n",
       "      <th>Embarked_Num</th>\n",
       "      <td>0.157112</td>\n",
       "      <td>0.104057</td>\n",
       "      <td>-0.022239</td>\n",
       "      <td>0.066654</td>\n",
       "      <td>0.038322</td>\n",
       "      <td>-0.016145</td>\n",
       "      <td>-0.221226</td>\n",
       "      <td>0.187015</td>\n",
       "      <td>1.000000</td>\n",
       "      <td>-0.163517</td>\n",
       "    </tr>\n",
       "    <tr>\n",
       "      <th>Survived</th>\n",
       "      <td>-0.338481</td>\n",
       "      <td>-0.543351</td>\n",
       "      <td>-0.069809</td>\n",
       "      <td>-0.035322</td>\n",
       "      <td>0.081629</td>\n",
       "      <td>-0.011526</td>\n",
       "      <td>0.257307</td>\n",
       "      <td>-0.301116</td>\n",
       "      <td>-0.163517</td>\n",
       "      <td>1.000000</td>\n",
       "    </tr>\n",
       "  </tbody>\n",
       "</table>\n",
       "</div>"
      ],
      "text/plain": [
       "                   Pclass   Sex_Num       Age     SibSp     Parch  \\\n",
       "Pclass           1.000000  0.131900 -0.331339  0.083081  0.018443   \n",
       "Sex_Num          0.131900  1.000000  0.084153 -0.114631 -0.245489   \n",
       "Age             -0.331339  0.084153  1.000000 -0.232625 -0.179191   \n",
       "SibSp            0.083081 -0.114631 -0.232625  1.000000  0.414838   \n",
       "Parch            0.018443 -0.245489 -0.179191  0.414838  1.000000   \n",
       "Ticket_Code_Num -0.027514  0.023097  0.019969 -0.015351  0.005542   \n",
       "Fare            -0.549500 -0.182333  0.091566  0.159651  0.216225   \n",
       "Cabin_Code_Num   0.746616  0.123076 -0.249134  0.041540 -0.032548   \n",
       "Embarked_Num     0.157112  0.104057 -0.022239  0.066654  0.038322   \n",
       "Survived        -0.338481 -0.543351 -0.069809 -0.035322  0.081629   \n",
       "\n",
       "                 Ticket_Code_Num      Fare  Cabin_Code_Num  Embarked_Num  \\\n",
       "Pclass                 -0.027514 -0.549500        0.746616      0.157112   \n",
       "Sex_Num                 0.023097 -0.182333        0.123076      0.104057   \n",
       "Age                     0.019969  0.091566       -0.249134     -0.022239   \n",
       "SibSp                  -0.015351  0.159651        0.041540      0.066654   \n",
       "Parch                   0.005542  0.216225       -0.032548      0.038322   \n",
       "Ticket_Code_Num         1.000000  0.074236        0.013002     -0.016145   \n",
       "Fare                    0.074236  1.000000       -0.523013     -0.221226   \n",
       "Cabin_Code_Num          0.013002 -0.523013        1.000000      0.187015   \n",
       "Embarked_Num           -0.016145 -0.221226        0.187015      1.000000   \n",
       "Survived               -0.011526  0.257307       -0.301116     -0.163517   \n",
       "\n",
       "                 Survived  \n",
       "Pclass          -0.338481  \n",
       "Sex_Num         -0.543351  \n",
       "Age             -0.069809  \n",
       "SibSp           -0.035322  \n",
       "Parch            0.081629  \n",
       "Ticket_Code_Num -0.011526  \n",
       "Fare             0.257307  \n",
       "Cabin_Code_Num  -0.301116  \n",
       "Embarked_Num    -0.163517  \n",
       "Survived         1.000000  "
      ]
     },
     "execution_count": 34,
     "metadata": {},
     "output_type": "execute_result"
    }
   ],
   "source": [
    "data_training.loc[:, ['Pclass', 'Sex_Num', 'Age', 'SibSp', 'Parch', 'Ticket_Code_Num', 'Fare', 'Cabin_Code_Num', 'Embarked_Num', 'Survived']].corr()"
   ]
  },
  {
   "cell_type": "code",
   "execution_count": 35,
   "id": "36eb9a3a-27b7-491f-ad22-51cb4210d6e1",
   "metadata": {},
   "outputs": [],
   "source": [
    "clf_decision_tree = tree.DecisionTreeClassifier()\n",
    "clf_decision_tree = clf_decision_tree.fit(X, Y)"
   ]
  },
  {
   "cell_type": "code",
   "execution_count": null,
   "id": "3446abdb-3a3c-476f-bd1e-3b29175a8515",
   "metadata": {},
   "outputs": [],
   "source": []
  }
 ],
 "metadata": {
  "kernelspec": {
   "display_name": "Python 3 (ipykernel)",
   "language": "python",
   "name": "python3"
  },
  "language_info": {
   "codemirror_mode": {
    "name": "ipython",
    "version": 3
   },
   "file_extension": ".py",
   "mimetype": "text/x-python",
   "name": "python",
   "nbconvert_exporter": "python",
   "pygments_lexer": "ipython3",
   "version": "3.9.13"
  }
 },
 "nbformat": 4,
 "nbformat_minor": 5
}
